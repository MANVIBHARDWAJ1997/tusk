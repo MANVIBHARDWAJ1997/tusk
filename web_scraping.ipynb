{
 "cells": [
  {
   "cell_type": "code",
   "execution_count": 1,
   "metadata": {},
   "outputs": [],
   "source": [
    "import requests"
   ]
  },
  {
   "cell_type": "code",
   "execution_count": 2,
   "metadata": {},
   "outputs": [],
   "source": [
    "r = requests.get('https://www.nytimes.com/interactive/2017/06/23/opinion/trumps-lies.html')"
   ]
  },
  {
   "cell_type": "code",
   "execution_count": 3,
   "metadata": {},
   "outputs": [],
   "source": [
    "#the code above fetches our web page frm url and store the result im a response object called r"
   ]
  },
  {
   "cell_type": "code",
   "execution_count": 4,
   "metadata": {},
   "outputs": [
    {
     "name": "stdout",
     "output_type": "stream",
     "text": [
      "<!DOCTYPE html>\n",
      "<!--[if (gt IE 9)|!(IE)]> <!--><html lang=\"en\" class=\"no-js page-interactive section-opinion page-theme-standard tone-opinion page-interactive-default limit-small layout-xlarge app-interactive\" itemid=\"https://www.nytimes.com/interactive/2017/06/23/opinion/trumps-lies.html\" itemtype=\"http://schema.org/NewsArticle\" itemscope xmlns:og=\"http://opengraphprotocol.org/schema/\"><!--<![endif]-->\n",
      "<!--[if IE 9]> <html lang=\"en\" class=\"no-js ie9 lt-ie10 page-interactive section-opinion page\n"
     ]
    }
   ],
   "source": [
    "#print 500 character of the html \n",
    "print(r.text[0:500])"
   ]
  },
  {
   "cell_type": "code",
   "execution_count": 13,
   "metadata": {},
   "outputs": [],
   "source": [
    "#parsing the html using beautiful soup\n",
    "from bs4 import BeautifulSoup\n",
    "soup = BeautifulSoup(r.text, 'html.parser')"
   ]
  },
  {
   "cell_type": "code",
   "execution_count": 22,
   "metadata": {},
   "outputs": [],
   "source": [
    "results=soup.find_all('span',attrs={'class':'short-desc'})"
   ]
  },
  {
   "cell_type": "code",
   "execution_count": 23,
   "metadata": {},
   "outputs": [
    {
     "data": {
      "text/plain": [
       "[<span class=\"short-desc\"><strong>Jan. 21\\xa0</strong>\\u201cI wasn't a fan of Iraq. I didn't want to go into Iraq.\\u201d <span class=\"short-truth\"><a href=\"https://www.buzzfeed.com/andrewkaczynski/in-2002-donald-trump-said-he-supported-invading-iraq-on-the\" target=\"_blank\">(He was for an invasion before he was against it.)</a></span></span>,\n",
       " <span class=\"short-desc\"><strong>Jan. 21\\xa0</strong>\\u201cA reporter for Time magazine \\u2014 and I have been on their cover 14 or 15 times. I think we have the all-time record in the history of Time magazine.\\u201d <span class=\"short-truth\"><a href=\"http://nation.time.com/2013/11/06/10-things-you-didnt-know-about-time/\" target=\"_blank\">(Trump was on the cover 11 times and Nixon appeared 55 times.)</a></span></span>,\n",
       " <span class=\"short-desc\"><strong>Jan. 23\\xa0</strong>\\u201cBetween 3 million and 5 million illegal votes caused me to lose the popular vote.\\u201d <span class=\"short-truth\"><a href=\"https://www.nytimes.com/2017/01/23/us/politics/donald-trump-congress-democrats.html\" target=\"_blank\">(There's no evidence of illegal voting.)</a></span></span>,\n",
       " <span class=\"short-desc\"><strong>Jan. 25\\xa0</strong>\\u201cNow, the audience was the biggest ever. But this crowd was massive. Look how far back it goes. This crowd was massive.\\u201d <span class=\"short-truth\"><a href=\"https://www.nytimes.com/2017/01/21/us/politics/trump-white-house-briefing-inauguration-crowd-size.html\" target=\"_blank\">(Official aerial photos show Obama's 2009 inauguration was much more heavily attended.)</a></span></span>,\n",
       " <span class=\"short-desc\"><strong>Jan. 25\\xa0</strong>\\u201cTake a look at the Pew reports (which show voter fraud.)\\u201d <span class=\"short-truth\"><a href=\"https://www.nytimes.com/2017/01/24/us/politics/unauthorized-immigrant-voting-trump-lie.html\" target=\"_blank\">(The report never mentioned voter fraud.)</a></span></span>,\n",
       " <span class=\"short-desc\"><strong>Jan. 25\\xa0</strong>\\u201cYou had millions of people that now aren't insured anymore.\\u201d <span class=\"short-truth\"><a href=\"https://www.nytimes.com/2017/03/13/us/politics/fact-check-trump-obamacare-health-care.html\" target=\"_blank\">(The real number is less than 1 million, according to the Urban Institute.)</a></span></span>,\n",
       " <span class=\"short-desc\"><strong>Jan. 25\\xa0</strong>\\u201cSo, look, when President Obama was there two weeks ago making a speech, very nice speech. Two people were shot and killed during his speech. You can't have that.\\u201d <span class=\"short-truth\"><a href=\"https://www.dnainfo.com/chicago/2017-chicago-murders/timeline?mon=1\" target=\"_blank\">(There were no gun homicide victims in Chicago that day.)</a></span></span>,\n",
       " <span class=\"short-desc\"><strong>Jan. 26\\xa0</strong>\\u201cWe've taken in tens of thousands of people. We know nothing about them. They can say they vet them. They didn't vet them. They have no papers. How can you vet somebody when you don't know anything about them and you have no papers? How do you vet them? You can't.\\u201d <span class=\"short-truth\"><a href=\"https://www.nytimes.com/interactive/2017/01/29/us/refugee-vetting-process.html\" target=\"_blank\">(Vetting lasts up to two years.)</a></span></span>,\n",
       " <span class=\"short-desc\"><strong>Jan. 26\\xa0</strong>\\u201cI cut off hundreds of millions of dollars off one particular plane, hundreds of millions of dollars in a short period of time. It wasn't like I spent, like, weeks, hours, less than hours, and many, many hundreds of millions of dollars. And the plane's going to be better.\\u201d <span class=\"short-truth\"><a href=\"https://www.washingtonpost.com/news/fact-checker/wp/2017/01/31/trumps-claim-taking-credit-for-cutting-600-million-from-the-f-35-program/\" target=\"_blank\">(Most of the cuts were already planned.)</a></span></span>,\n",
       " <span class=\"short-desc\"><strong>Jan. 28\\xa0</strong>\\u201cThe coverage about me in the @nytimes and the @washingtonpost has been so false and angry that the Times actually apologized to its dwindling subscribers and readers.\\u201d <span class=\"short-truth\"><a href=\"https://www.nytimes.com/2016/11/13/us/elections/to-our-readers-from-the-publisher-and-executive-editor.html\" target=\"_blank\">(It never apologized.)</a></span></span>,\n",
       " <span class=\"short-desc\"><strong>Jan. 29\\xa0</strong>\\u201cThe Cuban-Americans, I got 84 percent of that vote.\\u201d <span class=\"short-truth\"><a href=\"http://www.pewresearch.org/fact-tank/2016/11/15/unlike-other-latinos-about-half-of-cuban-voters-in-florida-backed-trump/\" target=\"_blank\">(There is no support for this.)</a></span></span>,\n",
       " <span class=\"short-desc\"><strong>Jan. 30\\xa0</strong>\\u201cOnly 109 people out of 325,000 were detained and held for questioning. Big problems at airports were caused by Delta computer outage.\\u201d <span class=\"short-truth\"><a href=\"http://markets.on.nytimes.com/research/stocks/news/press_release.asp?docTag=201701300400PR_NEWS_USPRX____CL99370&amp;feedID=600&amp;press_symbol=7311173\" target=\"_blank\">(At least 746 people were detained and processed, and the Delta outage happened two days later.)</a></span></span>,\n",
       " <span class=\"short-desc\"><strong>Feb. 3\\xa0</strong>\\u201cProfessional anarchists, thugs and paid protesters are proving the point of the millions of people who voted to MAKE AMERICA GREAT AGAIN!\\u201d <span class=\"short-truth\"><a href=\"https://www.nytimes.com/2017/01/28/nyregion/jfk-protests-trump-refugee-ban.html\" target=\"_blank\">(There is no evidence of paid protesters.)</a></span></span>,\n",
       " <span class=\"short-desc\"><strong>Feb. 4\\xa0</strong>\\u201cAfter being forced to apologize for its bad and inaccurate coverage of me after winning the election, the FAKE NEWS @nytimes is still lost!\\u201d <span class=\"short-truth\"><a href=\"https://www.nytimes.com/2016/11/13/us/elections/to-our-readers-from-the-publisher-and-executive-editor.html\" target=\"_blank\">(It never apologized.)</a></span></span>,\n",
       " <span class=\"short-desc\"><strong>Feb. 5\\xa0</strong>\\u201cWe had 109 people out of hundreds of thousands of travelers and all we did was vet those people very, very carefully.\\u201d <span class=\"short-truth\"><a href=\"http://www.politifact.com/truth-o-meter/statements/2017/feb/06/donald-trump/president-trump-says-109-people-were-affected-trav/\" target=\"_blank\">(About 60,000 people were affected.)</a></span></span>,\n",
       " <span class=\"short-desc\"><strong>Feb. 6\\xa0</strong>\\u201cI have already saved more than $700 million when I got involved in the negotiation on the F-35.\\u201d <span class=\"short-truth\"><a href=\"https://www.washingtonpost.com/news/fact-checker/wp/2017/01/31/trumps-claim-taking-credit-for-cutting-600-million-from-the-f-35-program/\" target=\"_blank\">(Much of the price drop was projected before Trump took office.)</a></span></span>,\n",
       " <span class=\"short-desc\"><strong>Feb. 6\\xa0</strong>\\u201cIt's gotten to a point where it is not even being reported. And in many cases, the very, very dishonest press doesn't want to report it.\\u201d <span class=\"short-truth\"><a href=\"https://www.nytimes.com/2017/02/07/us/politics/the-white-house-list-of-terror-attacks-underreported-by-media.html\" target=\"_blank\">(Terrorism has been reported on, often in detail.)</a></span></span>,\n",
       " <span class=\"short-desc\"><strong>Feb. 6\\xa0</strong>\\u201cThe failing @nytimes was forced to apologize to its subscribers for the poor reporting it did on my election win. Now they are worse!\\u201d <span class=\"short-truth\"><a href=\"https://www.nytimes.com/2016/11/13/us/elections/to-our-readers-from-the-publisher-and-executive-editor.html\" target=\"_blank\">(It didn't apologize.)</a></span></span>,\n",
       " <span class=\"short-desc\"><strong>Feb. 6\\xa0</strong>\\u201cAnd the previous administration allowed it to happen because we shouldn't have been in Iraq, but we shouldn't have gotten out the way we got out. It created a vacuum, ISIS was formed.\\u201d <span class=\"short-truth\"><a href=\"https://www.nytimes.com/2015/11/19/world/middleeast/in-rise-of-isis-no-single-missed-key-but-many-strands-of-blame.html\" target=\"_blank\">(The group\\u2019s origins date to 2004.)</a></span></span>,\n",
       " <span class=\"short-desc\"><strong>Feb. 7\\xa0</strong>\\u201cAnd yet the murder rate in our country is the highest it\\u2019s been in 47 years, right? Did you know that? Forty-seven years.\\u201d <span class=\"short-truth\"><a href=\"http://www.politifact.com/truth-o-meter/statements/2017/feb/08/donald-trump/donald-trump-wrong-murder-rate-highest-47-years/\" target=\"_blank\">(It was higher in the 1980s and '90s.)</a></span></span>,\n",
       " <span class=\"short-desc\"><strong>Feb. 7\\xa0</strong>\\u201cI saved more than $600 million. I got involved in negotiation on a fighter jet, the F-35.\\u201d <span class=\"short-truth\"><a href=\"https://www.washingtonpost.com/news/fact-checker/wp/2017/01/31/trumps-claim-taking-credit-for-cutting-600-million-from-the-f-35-program/\" target=\"_blank\">(The Defense Department projected this price drop before Trump took office.)</a></span></span>,\n",
       " <span class=\"short-desc\"><strong>Feb. 9\\xa0</strong>\\u201cChris Cuomo, in his interview with Sen. Blumenthal, never asked him about his long-term lie about his brave \\u2018service\\u2019 in Vietnam. FAKE NEWS!\\u201d <span class=\"short-truth\"><a href=\"http://transcripts.cnn.com/TRANSCRIPTS/1702/09/nday.05.html\" target=\"_blank\">(It was part of Cuomo's first question.)</a></span></span>,\n",
       " <span class=\"short-desc\"><strong>Feb. 9\\xa0</strong>\\u201cSen. Richard Blumenthal now misrepresents what Judge Gorsuch told him?\\u201d <span class=\"short-truth\"><a href=\"https://www.washingtonpost.com/news/fact-checker/wp/2017/02/10/heres-what-trump-got-wrong-on-twitter-this-week-5/?utm_term=.6fbfc4abc6e0\" target=\"_blank\">(The Gorsuch comments were later corroborated.)</a></span></span>,\n",
       " <span class=\"short-desc\"><strong>Feb. 10\\xa0</strong>\\u201cI don\\u2019t know about it. I haven\\u2019t seen it. What report is that?\\u201d <span class=\"short-truth\"><a href=\"http://www.factcheck.org/2017/02/trump-spins-flynn-facts/\" target=\"_blank\">(Trump knew about Flynn's actions for weeks.)</a></span></span>,\n",
       " <span class=\"short-desc\"><strong>Feb. 12\\xa0</strong>\\u201cJust leaving Florida. Big crowds of enthusiastic supporters lining the road that the FAKE NEWS media refuses to mention. Very dishonest!\\u201d <span class=\"short-truth\"><a href=\"http://www.palmbeachpost.com/news/national-govt--politics/trump-heads-back-protesters-supporters-gather/CQXPE9NRk807XKWiDwefWK/\" target=\"_blank\">(The media did cover it.)</a></span></span>,\n",
       " <span class=\"short-desc\"><strong>Feb. 16\\xa0</strong>\\u201cWe got 306 because people came out and voted like they've never seen before so that's the way it goes. I guess it was the biggest Electoral College win since Ronald Reagan.\\u201d <span class=\"short-truth\"><a href=\"https://www.nytimes.com/2017/02/16/us/politics/trump-fact-check.html\" target=\"_blank\">(George H.W. Bush, Bill Clinton and Barack Obama all won bigger margins in the Electoral College.)</a></span></span>,\n",
       " <span class=\"short-desc\"><strong>Feb. 16\\xa0</strong>\\u201cThat\\u2019s the other thing that was wrong with the travel ban. You had Delta with a massive problem with their computer system at the airports.\\u201d <span class=\"short-truth\"><a href=\"https://www.washingtonpost.com/news/fact-checker/wp/2017/02/03/what-trump-got-wrong-on-twitter-this-week-4/\" target=\"_blank\">(Delta's problems happened two days later.)</a></span></span>,\n",
       " <span class=\"short-desc\"><strong>Feb. 16\\xa0</strong>\\u201cWalmart announced it will create 10,000 jobs in the United States just this year because of our various plans and initiatives.\\u201d <span class=\"short-truth\"><a href=\"https://www.nytimes.com/interactive/2017/business/economy/trump-jobs.html\" target=\"_blank\">(The jobs are a result of its investment plans announced in Oct. 2016.)</a></span></span>,\n",
       " <span class=\"short-desc\"><strong>Feb. 16\\xa0</strong>\\u201cWhen WikiLeaks, which I had nothing to do with, comes out and happens to give, they\\u2019re not giving classified information.\\u201d <span class=\"short-truth\"><a href=\"http://www.politifact.com/truth-o-meter/article/2017/feb/16/fact-checking-donald-trumps-press-conference/\" target=\"_blank\">(Not always. They have released classified information in the past.)</a></span></span>,\n",
       " <span class=\"short-desc\"><strong>Feb. 16\\xa0</strong>\\u201cWe had a very smooth rollout of the travel ban. But we had a bad court. Got a bad decision.\\u201d <span class=\"short-truth\"><a href=\"https://www.washingtonpost.com/news/fact-checker/wp/2017/02/16/fact-checking-president-trumps-news-conference/?utm_term=.517d64230dcf\" target=\"_blank\">(The rollout was chaotic.)</a></span></span>,\n",
       " <span class=\"short-desc\"><strong>Feb. 16\\xa0</strong>\\u201cThey\\u2019re giving stuff \\u2014 what was said at an office about Hillary cheating on the debates. Which, by the way, nobody mentions. Nobody mentions that Hillary received the questions to the debates.\\u201d <span class=\"short-truth\"><a href=\"http://www.politifact.com/truth-o-meter/article/2017/feb/16/fact-checking-donald-trumps-press-conference/\" target=\"_blank\">(It was widely covered.)</a></span></span>,\n",
       " <span class=\"short-desc\"><strong>Feb. 18\\xa0</strong>\\u201cAnd there was no way to vet those people. There was no documentation. There was no nothing.\\u201d <span class=\"short-truth\"><a href=\"https://www.nytimes.com/interactive/2017/01/29/us/refugee-vetting-process.html\" target=\"_blank\">(Refugees receive multiple background checks, taking up to two years.)</a></span></span>,\n",
       " <span class=\"short-desc\"><strong>Feb. 18\\xa0</strong>\\u201cYou look at what's happening in Germany, you look at what's happening last night in Sweden. Sweden, who would believe this?\\u201d <span class=\"short-truth\"><a href=\"https://www.nytimes.com/2017/02/19/world/europe/last-night-in-sweden-trumps-remark-baffles-a-nation.html?rref=collection%2Ftimestopic%2FSweden&amp;action=click&amp;contentCollection=world&amp;region=stream&amp;module=stream_unit&amp;version=latest&amp;contentPlacement=7&amp;pgtype=collection\" target=\"_blank\">(Trump implied there was a terror attack in Sweden, but there was no such attack.)</a></span></span>,\n",
       " <span class=\"short-desc\"><strong>Feb. 24\\xa0</strong>\\u201cBy the way, you folks are in here \\u2014 this place is packed, there are lines that go back six blocks.\\u201d <span class=\"short-truth\"><a href=\"http://thehill.com/homenews/administration/320988-trump-falsely-claims-lines-go-back-6-blocks-for-cpac-speech\" target=\"_blank\">(There was no evidence of long lines.)</a></span></span>,\n",
       " <span class=\"short-desc\"><strong>Feb. 24\\xa0</strong>\\u201cICE came and endorsed me.\\u201d <span class=\"short-truth\"><a href=\"http://www.politifact.com/truth-o-meter/statements/2016/oct/10/donald-trump/trump-says-ice-endorsed-him/\" target=\"_blank\">(Only its union did.)</a></span></span>,\n",
       " <span class=\"short-desc\"><strong>Feb. 24\\xa0</strong>\\u201cObamacare covers very few people \\u2014 and remember, deduct from the number all of the people that had great health care that they loved that was taken away from them \\u2014 it was taken away from them.\\u201d <span class=\"short-truth\"><a href=\"https://www.nytimes.com/2017/02/24/us/politics/fact-check-trump-blasts-fake-news-and-repeats-inaccurate-claims-at-cpac.html\" target=\"_blank\">(Obamacare increased coverage by a net of about 20 million.)</a></span></span>,\n",
       " <span class=\"short-desc\"><strong>Feb. 27\\xa0</strong>\\u201cSince Obamacare went into effect, nearly half of the insurers are stopped and have stopped from participating in the Obamacare exchanges.\\u201d <span class=\"short-truth\"><a href=\"http://www.heritage.org/health-care-reform/report/the-2017-health-insurance-exchanges-major-decrease-competition-and-choice\" target=\"_blank\">(Many fewer pulled out.)</a></span></span>,\n",
       " <span class=\"short-desc\"><strong>Feb. 27\\xa0</strong>\\u201cOn one plane, on a small order of one plane, I saved $725 million. And I would say I devoted about, if I added it up, all those calls, probably about an hour. So I think that might be my highest and best use.\\u201d <span class=\"short-truth\"><a href=\"https://www.washingtonpost.com/news/fact-checker/wp/2017/01/31/trumps-claim-taking-credit-for-cutting-600-million-from-the-f-35-program/\" target=\"_blank\">(Much of the price cut was already projected.)</a></span></span>,\n",
       " <span class=\"short-desc\"><strong>Feb. 28\\xa0</strong>\\u201cAnd now, based on our very strong and frank discussions, they are beginning to do just that.\\u201d <span class=\"short-truth\"><a href=\"https://www.nytimes.com/2017/03/01/us/politics/fact-check-trump-military.html\" target=\"_blank\">(NATO countries agreed to meet defense spending requirements in 2014.)</a></span></span>,\n",
       " <span class=\"short-desc\"><strong>Feb. 28\\xa0</strong>\\u201cThe E.P.A.\\u2019s regulators were putting people out of jobs by the hundreds of thousands.\\u201d <span class=\"short-truth\"><a href=\"http://www.nytimes.com/2011/09/05/business/economy/a-debate-arises-on-job-creation-vs-environmental-regulation.html\" target=\"_blank\">(There's no evidence that the Waters of the United States rule caused severe job losses.)</a></span></span>,\n",
       " <span class=\"short-desc\"><strong>Feb. 28\\xa0</strong>\\u201cWe have begun to drain the swamp of government corruption by imposing a five-year ban on lobbying by executive branch officials.\\u201d <span class=\"short-truth\"><a href=\"https://www.washingtonpost.com/politics/2017/live-updates/trump-white-house/real-time-fact-checking-and-analysis-of-trumps-address-to-congress/fact-check-bans-on-lobbying/?utm_term=.ce1370a2b78d\" target=\"_blank\">(They can't lobby their former agency but can still become lobbyists.)</a></span></span>,\n",
       " <span class=\"short-desc\"><strong>March 3\\xa0</strong>\\u201cIt is so pathetic that the Dems have still not approved my full Cabinet.\\u201d <span class=\"short-truth\"><a href=\"https://www.washingtonpost.com/news/politics/wp/2017/03/03/trump-is-blaming-the-democrats-for-cabinet-delays-that-are-normal-and-his-own-fault/?utm_term=.68b1395b9ff1\" target=\"_blank\">(Paperwork for the last two candidates was still not submitted to the Senate.)</a></span></span>,\n",
       " <span class=\"short-desc\"><strong>March 4\\xa0</strong>\\u201cTerrible! Just found out that Obama had my \\u2018wires tapped\\u2019 in Trump Tower just before the victory. Nothing found. This is McCarthyism!\\u201d <span class=\"short-truth\"><a href=\"https://www.nytimes.com/2017/03/04/us/politics/trump-obama-tap-phones.html\" target=\"_blank\">(There's no evidence of a wiretap.)</a></span></span>,\n",
       " <span class=\"short-desc\"><strong>March 4\\xa0</strong>\\u201cHow low has President Obama gone to tap my phones during the very sacred election process. This is Nixon/Watergate. Bad (or sick) guy!\\u201d <span class=\"short-truth\"><a href=\"https://www.nytimes.com/2017/03/04/us/politics/trump-obama-tap-phones.html\" target=\"_blank\">(There's no evidence of a wiretap.)</a></span></span>,\n",
       " <span class=\"short-desc\"><strong>March 7\\xa0</strong>\\u201c122 vicious prisoners, released by the Obama Administration from Gitmo, have returned to the battlefield. Just another terrible decision!\\u201d <span class=\"short-truth\"><a href=\"https://www.nytimes.com/2017/03/07/us/politics/guantanamo-bay-trump.html\" target=\"_blank\">(113 of them were released by President George W. Bush.)</a></span></span>,\n",
       " <span class=\"short-desc\"><strong>March 13\\xa0</strong>\\u201cI saved a lot of money on those jets, didn't I? Did I do a good job? More than $725 million on them.\\u201d <span class=\"short-truth\"><a href=\"https://www.washingtonpost.com/news/fact-checker/wp/2017/01/31/trumps-claim-taking-credit-for-cutting-600-million-from-the-f-35-program/\" target=\"_blank\">(Much of the cost cuts were planned before Trump.)</a></span></span>,\n",
       " <span class=\"short-desc\"><strong>March 13\\xa0</strong>\\u201cFirst of all, it covers very few people.\\u201d <span class=\"short-truth\"><a href=\"https://www.nytimes.com/2017/03/13/us/politics/fact-check-trump-obamacare-health-care.html\" target=\"_blank\">(About 20 million people gained insurance under Obamacare.)</a></span></span>,\n",
       " <span class=\"short-desc\"><strong>March 15\\xa0</strong>\\u201cOn the airplanes, I saved $725 million. Probably took me a half an hour if you added up all of the times.\\u201d <span class=\"short-truth\"><a href=\"https://www.washingtonpost.com/news/fact-checker/wp/2017/01/31/trumps-claim-taking-credit-for-cutting-600-million-from-the-f-35-program/\" target=\"_blank\">(Much of the cost cuts were planned before Trump.)</a></span></span>,\n",
       " <span class=\"short-desc\"><strong>March 17\\xa0</strong>\\u201cI was in Tennessee \\u2014 I was just telling the folks \\u2014 and half of the state has no insurance company, and the other half is going to lose the insurance company.\\u201d <span class=\"short-truth\"><a href=\"https://public.tableau.com/profile/kaiser.family.foundation#!/vizhome/InsurerParticipationinthe2017IndividualMarketplace/2017InsurerParticipation\" target=\"_blank\">(There's at least one insurer in every Tennessee county.)</a></span></span>,\n",
       " <span class=\"short-desc\"><strong>March 20\\xa0</strong>\\u201cWith just one negotiation on one set of airplanes, I saved the taxpayers of our country over $700 million.\\u201d <span class=\"short-truth\"><a href=\"https://www.washingtonpost.com/news/fact-checker/wp/2017/01/31/trumps-claim-taking-credit-for-cutting-600-million-from-the-f-35-program/\" target=\"_blank\">(Much of the cost cuts were planned before Trump.)</a></span></span>,\n",
       " <span class=\"short-desc\"><strong>March 21\\xa0</strong>\\u201cTo save taxpayer dollars, I\\u2019ve already begun negotiating better contracts for the federal government \\u2014 saving over $700 million on just one set of airplanes of which there are many sets.\\u201d <span class=\"short-truth\"><a href=\"https://www.washingtonpost.com/news/fact-checker/wp/2017/01/31/trumps-claim-taking-credit-for-cutting-600-million-from-the-f-35-program/\" target=\"_blank\">(Much of the cost cuts were planned before Trump.)</a></span></span>,\n",
       " <span class=\"short-desc\"><strong>March 22\\xa0</strong>\\u201cI make the statement, everyone goes crazy. The next day they have a massive riot, and death, and problems.\\u201d <span class=\"short-truth\"><a href=\"https://www.nytimes.com/2017/02/19/world/europe/last-night-in-sweden-trumps-remark-baffles-a-nation.html\" target=\"_blank\">(Riots in Sweden broke out two days later and there were no deaths.)</a></span></span>,\n",
       " <span class=\"short-desc\"><strong>March 22\\xa0</strong>\\u201cNATO, obsolete, because it doesn\\u2019t cover terrorism. They fixed that.\\u201d <span class=\"short-truth\"><a href=\"http://www.politifact.com/truth-o-meter/statements/2016/sep/27/donald-trump/donald-trump-wrong-again-about-nato-increasing-ter/\" target=\"_blank\">(It has fought terrorism since the 1980s.)</a></span></span>,\n",
       " <span class=\"short-desc\"><strong>March 22\\xa0</strong>\\u201cWell, now, if you take a look at the votes, when I say that, I mean mostly they register wrong \\u2014 in other words, for the votes, they register incorrectly and/or illegally. And they then vote. You have tremendous numbers of people.\\u201d <span class=\"short-truth\"><a href=\"https://www.nytimes.com/2017/01/24/us/politics/unauthorized-immigrant-voting-trump-lie.html\" target=\"_blank\">(There's no evidence of widespread voter fraud.)</a></span></span>,\n",
       " <span class=\"short-desc\"><strong>March 29\\xa0</strong>\\u201cRemember when the failing @nytimes apologized to its subscribers, right after the election, because their coverage was so wrong. Now worse!\\u201d <span class=\"short-truth\"><a href=\"https://www.nytimes.com/2016/11/13/us/elections/to-our-readers-from-the-publisher-and-executive-editor.html\" target=\"_blank\">(It didn't apologize.)</a></span></span>,\n",
       " <span class=\"short-desc\"><strong>March 31\\xa0</strong>\\u201cWe have a lot of plants going up now in Michigan that were never going to be there if I \\u2014 if I didn\\u2019t win this election, those plants would never even think about going back. They were gone.\\u201d <span class=\"short-truth\"><a href=\"https://www.nytimes.com/interactive/2017/business/economy/trump-jobs.html\" target=\"_blank\">(These investments were already planned.)</a></span></span>,\n",
       " <span class=\"short-desc\"><strong>April 2\\xa0</strong>\\u201cAnd I was totally opposed to the war in the Middle East which I think finally has been proven, people tried very hard to say I wasn\\u2019t but you\\u2019ve seen that it is now improving.\\u201d <span class=\"short-truth\"><a href=\"https://www.buzzfeed.com/andrewkaczynski/in-2002-donald-trump-said-he-supported-invading-iraq-on-the\" target=\"_blank\">(He was for an invasion before he was against it.)</a></span></span>,\n",
       " <span class=\"short-desc\"><strong>April 2\\xa0</strong>\\u201cNow, my last tweet \\u2014 you know, the one that you are talking about, perhaps \\u2014 was the one about being, in quotes, wiretapped, meaning surveilled. Guess what, it is turning out to be true.\\u201d <span class=\"short-truth\"><a href=\"https://www.nytimes.com/2017/03/04/us/politics/trump-obama-tap-phones.html\" target=\"_blank\">(There is still no evidence.)</a></span></span>,\n",
       " <span class=\"short-desc\"><strong>April 5\\xa0</strong>\\u201cYou have many states coming up where they\\u2019re going to have no insurance company. O.K.? It\\u2019s already happened in Tennessee. It\\u2019s happening in Kentucky. Tennessee only has half coverage. Half the state is gone. They left.\\u201d <span class=\"short-truth\"><a href=\"https://www.nytimes.com/2017/03/24/us/politics/fact-check-trumps-misleading-claims-in-health-bill-failure.html\" target=\"_blank\">(Every marketplace region in Tennessee had at least one insurer.)</a></span></span>,\n",
       " <span class=\"short-desc\"><strong>April 6\\xa0</strong>\\u201cIf you look at the kind of cost-cutting we\\u2019ve been able to achieve with the military and at the same time ordering vast amounts of equipment \\u2014 saved hundreds of millions of dollars on airplanes, and really billions, because if you take that out over a period of years it\\u2019s many billions of dollars \\u2014 I think we\\u2019ve had a tremendous success.\\u201d <span class=\"short-truth\"><a href=\"https://www.washingtonpost.com/news/fact-checker/wp/2017/01/31/trumps-claim-taking-credit-for-cutting-600-million-from-the-f-35-program/\" target=\"_blank\">(Much of the price cuts were already projected.)</a></span></span>,\n",
       " <span class=\"short-desc\"><strong>April 11\\xa0</strong>\\u201cI like Steve, but you have to remember he was not involved in my campaign until very late. I had already beaten all the senators and all the governors, and I didn\\u2019t know Steve.\\u201d <span class=\"short-truth\"><a href=\"https://www.nytimes.com/2017/04/12/us/politics/trump-steven-bannon-fox-business-news-interview.html?ref=politics\" target=\"_blank\">(He knew Steve Bannon since 2011.)</a></span></span>,\n",
       " <span class=\"short-desc\"><strong>April 12\\xa0</strong>\\u201cYou can't do it faster, because they're obstructing. They're obstructionists. So I have people \\u2014 hundreds of people that we're trying to get through. I mean you have \\u2014 you see the backlog. We can't get them through.\\u201d <span class=\"short-truth\"><a href=\"https://www.nytimes.com/2017/04/12/us/politics/trump-steven-bannon-fox-business-news-interview.html?ref=politics\" target=\"_blank\">(At this point, he had not nominated anyone for hundreds of positions.)</a></span></span>,\n",
       " <span class=\"short-desc\"><strong>April 12\\xa0</strong>\\u201cThe New York Times said the word wiretapped in the headline of the first edition. Then they took it out of there fast when they realized.\\u201d <span class=\"short-truth\"><a href=\"https://www.nytimes.com/2017/03/23/us/politics/fact-check-trump-misleads-surveillance-wiretapping.html\" target=\"_blank\">(There were separate headlines for print and web, but neither were altered.)</a></span></span>,\n",
       " <span class=\"short-desc\"><strong>April 12\\xa0</strong>\\u201cThe secretary general and I had a productive discussion about what more NATO can do in the fight against terrorism. I complained about that a long time ago and they made a change, and now they do fight terrorism.\\u201d <span class=\"short-truth\"><a href=\"https://www.nytimes.com/2017/04/12/us/politics/trump-steven-bannon-fox-business-news-interview.html?ref=politics\" target=\"_blank\">(NATO has been engaged in counterterrorism efforts since the 1980s.)</a></span></span>,\n",
       " <span class=\"short-desc\"><strong>April 12\\xa0</strong>\\u201cMosul was supposed to last for a week and now they\\u2019ve been fighting it for many months and so many more people died.\\u201d <span class=\"short-truth\"><a href=\"https://www.washingtonpost.com/news/the-fix/wp/2017/04/12/president-trumps-throughly-confusing-fox-business-interview-annotated/\" target=\"_blank\">(The campaign was expected to take months.)</a></span></span>,\n",
       " <span class=\"short-desc\"><strong>April 16\\xa0</strong>\\u201cSomeone should look into who paid for the small organized rallies yesterday. The election is over!\\u201d <span class=\"short-truth\"><a href=\"https://www.nytimes.com/2017/04/15/us/politics/tax-day-march.html\" target=\"_blank\">(There's no evidence of paid protesters.)</a></span></span>,\n",
       " <span class=\"short-desc\"><strong>April 18\\xa0</strong>\\u201cThe fake media goes, \\u2018Donald Trump changed his stance on China.\\u2019 I haven\\u2019t changed my stance.\\u201d <span class=\"short-truth\"><a href=\"https://www.nytimes.com/2017/04/14/business/china-currency-manipulation-trump.html\" target=\"_blank\">(He did.)</a></span></span>,\n",
       " <span class=\"short-desc\"><strong>April 21\\xa0</strong>\\u201cOn 90 planes I saved $725 million. It's actually a little bit more than that, but it's $725 million.\\u201d <span class=\"short-truth\"><a href=\"https://www.washingtonpost.com/news/fact-checker/wp/2017/01/31/trumps-claim-taking-credit-for-cutting-600-million-from-the-f-35-program/\" target=\"_blank\">(Much of the price cuts were already projected.)</a></span></span>,\n",
       " <span class=\"short-desc\"><strong>April 21\\xa0</strong>\\u201cWhen WikiLeaks came out ... never heard of WikiLeaks, never heard of it.\\u201d <span class=\"short-truth\"><a href=\"https://www.washingtonpost.com/news/fact-checker/wp/2017/04/25/fact-checking-president-trumps-pinocchio-laden-associated-press-interview/?utm_term=.33ae871d0c9c\" target=\"_blank\">(He criticized it as early as 2010.)</a></span></span>,\n",
       " <span class=\"short-desc\"><strong>April 27\\xa0</strong>\\u201cI want to help our miners while the Democrats are blocking their healthcare.\\u201d <span class=\"short-truth\"><a href=\"http://www.pbs.org/newshour/rundown/retired-coal-miners-get-health-care-fix-pension-problems-remain/\" target=\"_blank\">(The bill to extend health benefits for certain coal miners was introduced by a Democrat and was co-sponsored by mostly Democrats.)</a></span></span>,\n",
       " <span class=\"short-desc\"><strong>April 28\\xa0</strong>\\u201cThe trade deficit with Mexico is close to $70 billion, even with Canada it\\u2019s $17 billion trade deficit with Canada.\\u201d <span class=\"short-truth\"><a href=\"http://www.factcheck.org/2017/05/trumps-100-day-boasts/\" target=\"_blank\">(The U.S. had an $8.1 billion trade surplus, not deficit, with Canada in 2016.)</a></span></span>,\n",
       " <span class=\"short-desc\"><strong>April 28\\xa0</strong>\\u201cShe's running against someone who's going to raise your taxes to the sky, destroy your health care, and he's for open borders \\u2014 lots of crime.\\u201d <span class=\"short-truth\"><a href=\"http://www.mdjonline.com/opinion/jon-ossoff-voters-too-smart-to-believe-attack-ads/article_d6c9dafa-1e5a-11e7-a93c-c7e0b4d4f985.html\" target=\"_blank\">(Those are not Jon Ossoff's positions.)</a></span></span>,\n",
       " <span class=\"short-desc\"><strong>April 28\\xa0</strong>\\u201cThe F-35 fighter jet program \\u2014 it was way over budget. I\\u2019ve saved $725 million plus, just by getting involved in the negotiation.\\u201d <span class=\"short-truth\"><a href=\"https://www.washingtonpost.com/news/fact-checker/wp/2017/01/31/trumps-claim-taking-credit-for-cutting-600-million-from-the-f-35-program/\" target=\"_blank\">(Much of the price cuts were planned before Trump.)</a></span></span>,\n",
       " <span class=\"short-desc\"><strong>April 29\\xa0</strong>\\u201cAs you know, I've been a big critic of China, and I've been talking about currency manipulation for a long time. But I have to tell you that during the election, number one, they stopped.\\u201d <span class=\"short-truth\"><a href=\"https://www.nytimes.com/2017/04/07/world/asia/fact-check-trump-china-trade.html\" target=\"_blank\">(China stopped years ago.)</a></span></span>,\n",
       " <span class=\"short-desc\"><strong>April 29\\xa0</strong>\\u201cI've already saved more than $725 million on a simple order of F-35 planes. I got involved in the negotiation.\\u201d <span class=\"short-truth\"><a href=\"https://www.washingtonpost.com/news/fact-checker/wp/2017/01/31/trumps-claim-taking-credit-for-cutting-600-million-from-the-f-35-program/\" target=\"_blank\">(Much of the price cuts were planned before Trump.)</a></span></span>,\n",
       " <span class=\"short-desc\"><strong>April 29\\xa0</strong>\\u201cWe're also getting NATO countries to finally step up and contribute their fair share. They've begun to increase their contributions by billions of dollars, but we are not going to be satisfied until everyone pays what they owe.\\u201d <span class=\"short-truth\"><a href=\"https://www.nytimes.com/2017/03/01/us/politics/fact-check-trump-military.html\" target=\"_blank\">(The deal was struck in 2014.)</a></span></span>,\n",
       " <span class=\"short-desc\"><strong>April 29\\xa0</strong>\\u201cWhen they talk about currency manipulation, and I did say I would call China, if they were, a currency manipulator, early in my tenure. And then I get there. Number one, they \\u2014 as soon as I got elected, they stopped.\\u201d <span class=\"short-truth\"><a href=\"https://www.nytimes.com/2017/04/07/world/asia/fact-check-trump-china-trade.html\" target=\"_blank\">(China stopped in 2014.)</a></span></span>,\n",
       " <span class=\"short-desc\"><strong>April 29\\xa0</strong>\\u201cI was negotiating to reduce the price of the big fighter jet contract, the F-35, which was totally out of control. I will save billions and billions and billions of dollars.\\u201d <span class=\"short-truth\"><a href=\"https://www.washingtonpost.com/news/fact-checker/wp/2017/01/31/trumps-claim-taking-credit-for-cutting-600-million-from-the-f-35-program/\" target=\"_blank\">(Most of the cuts were planned before Trump.)</a></span></span>,\n",
       " <span class=\"short-desc\"><strong>April 29\\xa0</strong>\\u201cI think our side's been proven very strongly. And everybody's talking about it.\\u201d <span class=\"short-truth\"><a href=\"https://www.nytimes.com/2017/03/20/us/politics/intelligence-committee-russia-donald-trump.html\" target=\"_blank\">(There's still no evidence Trump's phones were tapped.)</a></span></span>,\n",
       " <span class=\"short-desc\"><strong>May 1\\xa0</strong>\\u201cWell, we are protecting pre-existing conditions. And it'll be every good \\u2014 bit as good on pre-existing conditions as Obamacare.\\u201d <span class=\"short-truth\"><a href=\"https://www.nytimes.com/2017/04/26/upshot/what-changed-in-the-health-repeal-plan-to-win-over-the-freedom-caucus.html\" target=\"_blank\">(The bill weakens protections for people with pre-existing conditions.)</a></span></span>,\n",
       " <span class=\"short-desc\"><strong>May 1\\xa0</strong>\\u201cThe F-35 fighter jet \\u2014 I saved \\u2014 I got involved in the negotiation. It's 2,500 jets. I negotiated for 90 planes, lot 10. I got $725 million off the price.\\u201d <span class=\"short-truth\"><a href=\"https://www.washingtonpost.com/news/fact-checker/wp/2017/01/31/trumps-claim-taking-credit-for-cutting-600-million-from-the-f-35-program/\" target=\"_blank\">(Much of the price cuts were planned before Trump.)</a></span></span>,\n",
       " <span class=\"short-desc\"><strong>May 1\\xa0</strong>\\u201cFirst of all, since I started running, they haven't increased their \\u2014 you know, they have not manipulated their currency. I think that was out of respect to me and the campaign.\\u201d <span class=\"short-truth\"><a href=\"https://www.nytimes.com/2017/04/07/world/asia/fact-check-trump-china-trade.html\" target=\"_blank\">(China stopped years ago.)</a></span></span>,\n",
       " <span class=\"short-desc\"><strong>May 2\\xa0</strong>\\u201cI love buying those planes at a reduced price. I have been really \\u2014 I have cut billions \\u2014 I have to tell you this, and they can check, right, Martha? I have cut billions and billions of dollars off plane contracts sitting here.\\u201d <span class=\"short-truth\"><a href=\"https://www.washingtonpost.com/news/fact-checker/wp/2017/01/31/trumps-claim-taking-credit-for-cutting-600-million-from-the-f-35-program/\" target=\"_blank\">(Much of the cost cuts were planned before Trump.)</a></span></span>,\n",
       " <span class=\"short-desc\"><strong>May 4\\xa0</strong>\\u201cNumber two, they\\u2019re actually not a currency [manipulator]. You know, since I\\u2019ve been talking about currency manipulation with respect to them and other countries, they stopped.\\u201d <span class=\"short-truth\"><a href=\"https://www.nytimes.com/2017/04/07/world/asia/fact-check-trump-china-trade.html\" target=\"_blank\">(China stopped years ago.)</a></span></span>,\n",
       " <span class=\"short-desc\"><strong>May 4\\xa0</strong>\\u201cWe\\u2019re the highest-taxed nation in the world.\\u201d <span class=\"short-truth\"><a href=\"http://www.politifact.com/truth-o-meter/statements/2016/may/08/donald-trump/donald-trump-us-not-highest-taxed-nation-in-world/\" target=\"_blank\">(We're not.)</a></span></span>,\n",
       " <span class=\"short-desc\"><strong>May 4\\xa0</strong>\\u201cNobody cares about my tax return except for the reporters.\\u201d <span class=\"short-truth\"><a href=\"http://time.com/money/4732925/trump-tax-returns-released-poll/\" target=\"_blank\">(Polls show most Americans do care.)</a></span></span>,\n",
       " <span class=\"short-desc\"><strong>May 8\\xa0</strong>\\u201cYou know we\\u2019ve gotten billions of dollars more in NATO than we\\u2019re getting. All because of me.\\u201d <span class=\"short-truth\"><a href=\"https://www.nytimes.com/2017/03/01/us/politics/fact-check-trump-military.html\" target=\"_blank\">(The deal was struck in 2014.)</a></span></span>,\n",
       " <span class=\"short-desc\"><strong>May 8\\xa0</strong>\\u201cBut when I did his show, which by the way was very highly rated. It was high \\u2014 highest rating. The highest rating he\\u2019s ever had.\\u201d <span class=\"short-truth\"><a href=\"http://money.cnn.com/2017/05/11/media/stephen-colbert-trump-no-talent-comment/\" target=\"_blank\">(Colbert's Late Show debut had nearly two million more viewers.)</a></span></span>,\n",
       " <span class=\"short-desc\"><strong>May 8\\xa0</strong>\\u201cDirector Clapper reiterated what everybody, including the fake media already knows \\u2014 there is \\u2018no evidence\\u2019 of collusion w/ Russia and Trump.\\u201d <span class=\"short-truth\"><a href=\"https://www.nytimes.com/2017/05/10/us/politics/fact-check-fbi-james-comey-sarah-huckabee-sanders.html\" target=\"_blank\">(Clapper only said he wasn't aware of an investigation.)</a></span></span>,\n",
       " <span class=\"short-desc\"><strong>May 12\\xa0</strong>\\u201cAgain, the story that there was collusion between the Russians &amp; Trump campaign was fabricated by Dems as an excuse for losing the election.\\u201d <span class=\"short-truth\"><a href=\"https://www.nytimes.com/interactive/2017/05/10/us/politics/fbi-congress-trump-russia-investigations.html\" target=\"_blank\">(The F.B.I. was investigating before the election.)</a></span></span>,\n",
       " <span class=\"short-desc\"><strong>May 12\\xa0</strong>\\u201cWhen James Clapper himself, and virtually everyone else with knowledge of the witch hunt, says there is no collusion, when does it end?\\u201d <span class=\"short-truth\"><a href=\"https://www.nytimes.com/2017/05/10/us/politics/fact-check-fbi-james-comey-sarah-huckabee-sanders.html\" target=\"_blank\">(Clapper said he wouldn't have been told of an investigation into collusion.)</a></span></span>,\n",
       " <span class=\"short-desc\"><strong>May 13\\xa0</strong>\\u201cI'm cutting the price of airplanes with Lockheed.\\u201d <span class=\"short-truth\"><a href=\"https://www.washingtonpost.com/news/fact-checker/wp/2017/01/31/trumps-claim-taking-credit-for-cutting-600-million-from-the-f-35-program/\" target=\"_blank\">(The cost cuts were planned before he became president.)</a></span></span>,\n",
       " <span class=\"short-desc\"><strong>May 26\\xa0</strong>\\u201cJust arrived in Italy for the G7. Trip has been very successful. We made and saved the USA many billions of dollars and millions of jobs.\\u201d <span class=\"short-truth\"><a href=\"https://www.washingtonpost.com/news/fact-checker/wp/2017/05/26/president-trumps-claim-that-hes-already-saved-millions-of-jobs-on-his-foreign-trip/?utm_term=.820dd5955428\" target=\"_blank\">(He's referencing an arms deal that's not enacted and other apparent deals that weren't announced on the trip.)</a></span></span>,\n",
       " <span class=\"short-desc\"><strong>June 1\\xa0</strong>\\u201cChina will be allowed to build hundreds of additional coal plants. So, we can\\u2019t build the plants, but they can, according to this agreement. India will be allowed to double its coal production by 2020.\\u201d <span class=\"short-truth\"><a href=\"https://www.washingtonpost.com/news/the-fix/wp/2017/06/01/transcript-president-trumps-remarks-on-leaving-the-paris-climate-deal-annotated/?utm_term=.7f974232c4ba\" target=\"_blank\">(The agreement doesn\\u2019t allow or disallow building coal plants.)</a></span></span>,\n",
       " <span class=\"short-desc\"><strong>June 1\\xa0</strong>\\u201cI\\u2019ve just returned from a trip overseas where we concluded nearly $350 billion of military and economic development for the United States, creating hundreds of thousands of jobs.\\u201d <span class=\"short-truth\"><a href=\"https://www.washingtonpost.com/news/fact-checker/wp/2017/06/08/the-trump-administrations-tally-of-350-billion-plus-in-deals-with-saudi-arabia/?utm_term=.142db3117855\" target=\"_blank\">(Trump\\u2019s figures are inflated and premature.)</a></span></span>,\n",
       " <span class=\"short-desc\"><strong>June 4\\xa0</strong>\\u201cAt least 7 dead and 48 wounded in terror attack and Mayor of London says there is \\u2018no reason to be alarmed!\\u2019\\u201d <span class=\"short-truth\"><a href=\"http://www.snopes.com/2017/06/04/london-mayor-sadiq-khan-no-reason-to-be-alarmed-trump/\" target=\"_blank\">(The mayor was specifically talking about the enlarged police presence on the streets.)</a></span></span>,\n",
       " <span class=\"short-desc\"><strong>June 5\\xa0</strong>\\u201cThe Justice Dept. should have stayed with the original Travel Ban, not the watered down, politically correct version they submitted to S.C.\\u201d <span class=\"short-truth\"><a href=\"http://www.factcheck.org/2017/06/trumps-tweets-twist-facts/\" target=\"_blank\">(Trump signed this version of the travel ban, not the Justice Department.)</a></span></span>,\n",
       " <span class=\"short-desc\"><strong>June 20\\xa0</strong>\\u201cWell, the Special Elections are over and those that want to MAKE AMERICA GREAT AGAIN are 5 and O!\\u201d <span class=\"short-truth\"><a href=\"https://www.washingtonpost.com/news/the-fix/wp/2017/06/21/republicans-claim-a-big-victory-and-trump-promptly-exaggerates-it/?utm_term=.ce22a6dade36\" target=\"_blank\">(Republicans have won four special elections this year, while a Democrat won one.)</a></span></span>,\n",
       " <span class=\"short-desc\"><strong>June 21\\xa0</strong>\\u201cThey all say it's 'nonbinding.' Like hell it's nonbinding.\\u201d <span class=\"short-truth\"><a href=\"https://www.nytimes.com/2017/06/21/us/politics/trump-iowa-rally-venting-session.html\" target=\"_blank\">(The Paris climate agreement is nonbinding \\u2014 and Trump said so in his speech announcing the withdrawal.)</a></span></span>,\n",
       " <span class=\"short-desc\"><strong>June 21\\xa0</strong>\\u201cRight now, we are one of the highest-taxed nations in the world.\\u201d <span class=\"short-truth\"><a href=\"http://www.politifact.com/truth-o-meter/article/2017/jun/22/fact-checking-nine-things-trump-overstated-got-wro/\" target=\"_blank\">(We're not.)</a></span></span>,\n",
       " <span class=\"short-desc\"><strong>June 21\\xa0</strong>\\u201cYou have a gang called MS-13. ... We are moving them out of the country by the thousands, by the thousands.\\u201d <span class=\"short-truth\"><a href=\"http://www.factcheck.org/2017/06/factchecking-trumps-iowa-rally\" target=\"_blank\">(The real number of gang members deported is smaller.)</a></span></span>,\n",
       " <span class=\"short-desc\"><strong>June 21\\xa0</strong>\\u201cYour insurance companies have all fled the state of Iowa.\\u201d <span class=\"short-truth\"><a href=\"http://www.factcheck.org/2017/06/factchecking-trumps-iowa-rally/\" target=\"_blank\">(They haven't.)</a></span></span>,\n",
       " <span class=\"short-desc\"><strong>June 21\\xa0</strong>\\u201cIf [farmers] have a puddle in the middle of their field ... it's considered a lake and you can't touch it. ... We got rid of that one, too, O.K.?\\u201d <span class=\"short-truth\"><a href=\"https://www.nytimes.com/2017/06/22/us/politics/factcheck-donald-trump-iowa-rally.html\" target=\"_blank\">(The Obama environmental rule to limit pollution in the country\\u2019s waters explicitly excludes puddles.)</a></span></span>,\n",
       " <span class=\"short-desc\"><strong>June 21\\xa0</strong>\\u201cGary Cohn just paid $200 million in tax in order to take this job, by the way.\\u201d <span class=\"short-truth\"><a href=\"https://www.nytimes.com/2017/06/22/us/politics/factcheck-donald-trump-iowa-rally.html\" target=\"_blank\">(Cohn sold Goldman Sachs stock worth $220 million.)</a></span></span>,\n",
       " <span class=\"short-desc\"><strong>June 21\\xa0</strong>\\u201cWe\\u2019re 5 and 0.\\u201d <span class=\"short-truth\"><a href=\"https://www.washingtonpost.com/graphics/politics/trump-claims-database/?utm_term=.60ce71155f60\" target=\"_blank\">(Republicans have won four special elections this year, while a Democrat won one.)</a></span></span>,\n",
       " <span class=\"short-desc\"><strong>June 21\\xa0</strong>\\u201cLast week a brand-new coal mine just opened in the state of Pennsylvania, first time in decades, decades.\\u201d <span class=\"short-truth\"><a href=\"https://www.washingtonpost.com/graphics/politics/trump-claims-database/?utm_term=.60ce71155f60\" target=\"_blank\">(Another coal mine opened in 2014.)</a></span></span>,\n",
       " <span class=\"short-desc\"><strong>June 22\\xa0</strong>\\u201cFormer Homeland Security Advisor Jeh Johnson is latest top intelligence official to state there was no grand scheme between Trump &amp; Russia.\\u201d <span class=\"short-truth\"><a href=\"http://talkingpointsmemo.com/livewire/trump-claims-johnson-testimony-clears-him\" target=\"_blank\">(Johnson, who had a different title, didn't say that.)</a></span></span>,\n",
       " <span class=\"short-desc\"><strong>June 23\\xa0</strong>\\u201cWe are 5 and 0 ... in these special elections.\\u201d <span class=\"short-truth\"><a href=\"http://www.chicagotribune.com/news/nationworld/politics/factcheck/ct-fact-check-trump-missions-20170624-story.html\" target=\"_blank\">(Republicans have won four special elections this year, while a Democrat won one.)</a></span></span>,\n",
       " <span class=\"short-desc\"><strong>June 27\\xa0</strong>\\u201cRatings way down!\\u201d <span class=\"short-truth\"><a href=\"http://www.politifact.com/truth-o-meter/statements/2017/jul/03/donald-trump/trumps-pants-fire-claim-cnn-ratings-are-way-down/\" target=\"_blank\">(CNN's ratings were at a five-year high at the time.)</a></span></span>,\n",
       " <span class=\"short-desc\"><strong>June 28\\xa0</strong>\\u201cDemocrats purposely misstated Medicaid under new Senate bill \\u2014 actually goes up.\\u201d <span class=\"short-truth\"><a href=\"https://www.washingtonpost.com/news/fact-checker/wp/2017/06/30/president-trumps-claim-medicaid-spending-in-senate-health-bill-actually-goes-up/?utm_term=.a319dee54870\" target=\"_blank\">(Senate bill would have cut the program deeply.)</a></span></span>,\n",
       " <span class=\"short-desc\"><strong>June 29\\xa0</strong>\\u201cGeneral Kelly and his whole group \\u2014 they\\u2019ve gotten rid of 6,000 so far.\\u201d <span class=\"short-truth\"><a href=\"https://www.washingtonpost.com/graphics/politics/trump-claims-database/?utm_term=.aa961e129167\" target=\"_blank\">(The real number of MS-13 gang members who have been deported is smaller.)</a></span></span>,\n",
       " <span class=\"short-desc\"><strong>July 6\\xa0</strong>\\u201cAs a result of this insistence, billions of dollars more have begun to pour into NATO.\\u201d <span class=\"short-truth\"><a href=\"http://www.nbcnews.com/politics/donald-trump/fact-check-long-trump-took-credit-nato-spending-was-n780241\" target=\"_blank\">(NATO countries agreed to meet defense spending requirements in 2014.)</a></span></span>,\n",
       " <span class=\"short-desc\"><strong>July 17\\xa0</strong>\\u201cWe\\u2019ve signed more bills \\u2014 and I\\u2019m talking about through the legislature \\u2014 than any president, ever.\\u201d <span class=\"short-truth\"><a href=\"https://www.nytimes.com/2017/07/17/us/politics/trump-laws-bills.html\" target=\"_blank\">(Clinton, Carter, Truman, and F.D.R. had signed more at the same point.)</a></span></span>,\n",
       " <span class=\"short-desc\"><strong>July 19\\xa0</strong>\\u201cUm, the Russian investigation \\u2014 it\\u2019s not an investigation, it\\u2019s not on me \\u2014 you know, they\\u2019re looking at a lot of things.\\u201d <span class=\"short-truth\"><a href=\"http://time.com/4823514/donald-trump-investigation-jay-sekulow/\" target=\"_blank\">(It is.)</a></span></span>,\n",
       " <span class=\"short-desc\"><strong>July 19\\xa0</strong>\\u201cI heard that Harry Truman was first, and then we beat him. These are approved by Congress. These are not just executive orders.\\u201d <span class=\"short-truth\"><a href=\"https://www.nytimes.com/2017/07/17/us/politics/trump-laws-bills.html\" target=\"_blank\">(Presidents Clinton, Carter, Truman, and F.D.R. each had signed more legislation than Trump at the same point in their terms.)</a></span></span>,\n",
       " <span class=\"short-desc\"><strong>July 19\\xa0</strong>\\u201cBut the F.B.I. person really reports directly to the president of the United States, which is interesting.\\u201d <span class=\"short-truth\"><a href=\"https://www.usatoday.com/story/news/politics/onpolitics/2017/07/20/fbi-director-reports-justice-department-not-president/495094001/\" target=\"_blank\">(He reports directly to the attorney general.)</a></span></span>,\n",
       " <span class=\"short-desc\"><strong>July 19\\xa0</strong>\\u201cShe did the uranium deal, which is a horrible thing, while she was secretary of state, and got a lot of money.\\u201d <span class=\"short-truth\"><a href=\"http://www.factcheck.org/2017/10/facts-uranium-one/\" target=\"_blank\">(There's no evidence Hillary Clinton was actively involved or benefited from the deal.)</a></span></span>,\n",
       " <span class=\"short-desc\"><strong>July 24\\xa0</strong>\\u201cIt looks like about 45,000 people. You set a record today.\\u201d <span class=\"short-truth\"><a href=\"https://www.washingtonpost.com/news/fact-checker/wp/2017/07/26/26-hours-29-trumpian-false-or-misleading-claims/?utm_term=.2e4b2407199f\" target=\"_blank\">(Many fewer than 45,000 were there, and the attendance was not a record.)</a></span></span>,\n",
       " <span class=\"short-desc\"><strong>July 25\\xa0</strong>\\u201cWe have the highest taxes anywhere in the world, and this will really bring them down to one of the lowest.\\u201d <span class=\"short-truth\"><a href=\"http://www.politifact.com/truth-o-meter/statements/2017/oct/18/donald-trump/once-again-trump-overstates-us-tax-ranking/\" target=\"_blank\">(Tax rates in the United States are below average, overall and for an industrialized country.)</a></span></span>,\n",
       " <span class=\"short-desc\"><strong>July 25\\xa0</strong>\\u201cWe\\u2019re the highest-taxed nation in the world\\u201d <span class=\"short-truth\"><a href=\"http://www.politifact.com/truth-o-meter/statements/2017/oct/18/donald-trump/once-again-trump-overstates-us-tax-ranking/\" target=\"_blank\">(We're not.)</a></span></span>,\n",
       " <span class=\"short-desc\"><strong>July 25\\xa0</strong>\\u201cWe have nearly doubled the number of veterans given approvals to see the doctor of their choice.\\u201d <span class=\"short-truth\"><a href=\"https://www.usatoday.com/story/opinion/2017/07/24/veterans-health-care-will-not-be-privatized-david-shulkin-column/499417001/\" target=\"_blank\">(The increase was 26 percent.)</a></span></span>,\n",
       " <span class=\"short-desc\"><strong>July 25\\xa0</strong>\\u201cSince I took office we have cut illegal immigration on our southern border by record numbers. 78 percent.\\u201d <span class=\"short-truth\"><a href=\"https://www.nytimes.com/interactive/2017/10/12/us/politics/trump-border-claim-factcheck.html?_r=0\" target=\"_blank\">(The decline began before Trump's inauguration.)</a></span></span>,\n",
       " <span class=\"short-desc\"><strong>July 28\\xa0</strong>\\u201cThe previous administration enacted an open-door policy to illegal migrants from Central America.  \"Welcome in. Come in, please, please.\\u201d <span class=\"short-truth\"><a href=\"http://www.politifact.com/truth-o-meter/article/2017/jul/28/fact-checking-donald-trumps-ny-speech-law-enforcem/\" target=\"_blank\">(Obama deported millions.)</a></span></span>,\n",
       " <span class=\"short-desc\"><strong>July 28\\xa0</strong>\\u201cWe have trade deficits with almost every country because we had a lot of really bad negotiators making deals with other countries.\\u201d <span class=\"short-truth\"><a href=\"https://www.bea.gov/newsreleases/international/trade/2017/trad0917.htm\" target=\"_blank\">(The U.S. has a trade surplus with more than 100 countries.)</a></span></span>,\n",
       " <span class=\"short-desc\"><strong>July 31\\xa0</strong>\\u201c2.6 is a number that nobody thought they\\u2019d see for a long period of time.\\u201d <span class=\"short-truth\"><a href=\"http://www.factcheck.org/2017/08/trumps-gdp-puffery/\" target=\"_blank\">(Many experts predicted economic growth at least this high.)</a></span></span>,\n",
       " <span class=\"short-desc\"><strong>July 31\\xa0</strong>\\u201cAnd even the President of Mexico called me  \\u2013 they said their southern border, very few people are coming because they know they\\u2019re not going to get through our border, which is the ultimate compliment.\\u201d <span class=\"short-truth\"><a href=\"http://www.cnn.com/2017/08/02/politics/trump-phone-calls/index.html\" target=\"_blank\">(Mexico's president says he didn't call Trump.)</a></span></span>,\n",
       " <span class=\"short-desc\"><strong>Aug. 1\\xa0</strong>\\u201cAnd I think to me, maybe the biggest is that GDP for the quarter just released at 2.6 percent. So that's so much higher than anticipated.\\u201d <span class=\"short-truth\"><a href=\"http://www.factcheck.org/2017/08/trumps-gdp-puffery/\" target=\"_blank\">(It wasn't.)</a></span></span>,\n",
       " <span class=\"short-desc\"><strong>Aug. 3\\xa0</strong>\\u201cEconomic growth has surged to 2.6% nationwide. You have to understand what that means. Nobody thought that number was going to happen.\\u201d <span class=\"short-truth\"><a href=\"https://www.usatoday.com/story/news/politics/2017/08/04/fact-checking-donald-trumps-west-virginia-rally/541318001/\" target=\"_blank\">(Many experts predicted that.)</a></span></span>,\n",
       " <span class=\"short-desc\"><strong>Aug. 3\\xa0</strong>\\u201cThe Russia story is a total fabrication.\\u201d <span class=\"short-truth\"><a href=\"https://www.washingtonpost.com/news/fact-checker/wp/2017/08/03/fact-checking-the-trump-russia-investigation/?utm_term=.1404a36076a6\" target=\"_blank\">(It's not.)</a></span></span>,\n",
       " <span class=\"short-desc\"><strong>Aug. 3\\xa0</strong>\\u201cOr let them look at the uranium she sold that is now in the hands of very angry Russians.\\u201d <span class=\"short-truth\"><a href=\"http://www.factcheck.org/2017/08/factchecking-trumps-west-virginia-rally/\" target=\"_blank\">(There's no evidence Hillary Clinton was actively involved in the sale.)</a></span></span>,\n",
       " <span class=\"short-desc\"><strong>Aug. 15\\xa0</strong>\\u201cWe want products made in the country. Now, I have to tell you, some of the folks that will leave, they're leaving out of embarrassment because they make their products outside.\\u201d <span class=\"short-truth\"><a href=\"http://money.cnn.com/2017/08/16/news/trump-manufacturing-council-ceos/index.html\" target=\"_blank\">(People resigned from Trump's business councils over his Charlottesville comments.)</a></span></span>,\n",
       " <span class=\"short-desc\"><strong>Aug. 22\\xa0</strong>\\u201cRemember, everybody said you won\\u2019t bring it up to 1 percent. You won\\u2019t bring it up to 1.2 percent.\\u201d <span class=\"short-truth\"><a href=\"https://washingtonmonthly.com/2017/08/23/quick-takes-how-many-lies-did-trump-tell-last-night/\" target=\"_blank\">(Many experts predicted economic growth at least this high.)</a></span></span>,\n",
       " <span class=\"short-desc\"><strong>Aug. 22\\xa0</strong>\\u201cI mean truly dishonest people in the media and the fake media, they make up stories. They have no sources in many cases. They say 'a source says'  \\u2013 there is no such thing.\\u201d <span class=\"short-truth\"><a href=\"http://www.factcheck.org/2017/02/factchecking-trumps-cpac-speech/\" target=\"_blank\">(The media does not make up sources.)</a></span></span>,\n",
       " <span class=\"short-desc\"><strong>Aug. 22\\xa0</strong>\\u201cAs everybody here remembers, this was the scene of my first rally speech, right?\\u201d <span class=\"short-truth\"><a href=\"https://www.realclearpolitics.com/articles/2015/06/18/at_trumps_nh_rally_true_believers_and_big_fans_127030.html\" target=\"_blank\">(Trump's first rally was in New Hampshire)</a></span></span>,\n",
       " <span class=\"short-desc\"><strong>Aug. 22\\xa0</strong>\\u201cWe have become an energy exporter for the first time ever just recently.\\u201d <span class=\"short-truth\"><a href=\"http://www.politifact.com/truth-o-meter/statements/2017/aug/23/donald-trump/donald-trump-wrongly-says-us-net-energy-exporte/\" target=\"_blank\">(The U.S. isn't projected to become a net energy exporter until 2026.)</a></span></span>,\n",
       " <span class=\"short-desc\"><strong>Aug. 22\\xa0</strong>\\u201cLook back there, the live red lights. They're turning those suckers off fast out there. They're turning those lights off fast. Like CNN.\\u201d <span class=\"short-truth\"><a href=\"http://www.cnn.com/2017/08/23/politics/phoenix-rally-things-trump-got-wrong/index.html\" target=\"_blank\">(CNN didn't turn off its cameras.)</a></span></span>,\n",
       " <span class=\"short-desc\"><strong>Sept. 6\\xa0</strong>\\u201cThe taxes are crazy  \\u2013 the highest-taxed nation in the world.\\u201d <span class=\"short-truth\"><a href=\"http://www.politifact.com/truth-o-meter/statements/2016/may/08/donald-trump/donald-trump-us-not-highest-taxed-nation-in-world/\" target=\"_blank\">(We're not.)</a></span></span>,\n",
       " <span class=\"short-desc\"><strong>Sept. 6\\xa0</strong>\\u201cWe are the highest taxed nation in the world - that will change.\\u201d <span class=\"short-truth\"><a href=\"http://www.politifact.com/truth-o-meter/statements/2016/may/08/donald-trump/donald-trump-us-not-highest-taxed-nation-in-world/\" target=\"_blank\">(We're not.)</a></span></span>,\n",
       " <span class=\"short-desc\"><strong>Sept. 8\\xa0</strong>\\u201cOur incredible U.S. Coast Guard saved more than 15,000 lives last week with Harvey.\\u201d <span class=\"short-truth\"><a href=\"https://content.govdelivery.com/accounts/USDHSCG/bulletins/1b5ace3\" target=\"_blank\">(The real number is 11,022.)</a></span></span>,\n",
       " <span class=\"short-desc\"><strong>Sept. 14\\xa0</strong>\\u201cAlso with the fact that I know in the case of FEMA and the case of Coast Guard, the job you've done in saving people, saving lives.  As an example, in Harvey in Texas, we talked  \\u2013 over 16,000 lives.\\u201d <span class=\"short-truth\"><a href=\"https://content.govdelivery.com/accounts/USDHSCG/bulletins/1b5ace3\" target=\"_blank\">(The real number is smaller.)</a></span></span>,\n",
       " <span class=\"short-desc\"><strong>Sept. 14\\xa0</strong>\\u201cAnd in Florida you got hit with the strongest winds ever recorded.\\u201d <span class=\"short-truth\"><a href=\"https://www.washingtonpost.com/news/post-nation/wp/2017/09/09/destructive-winds-rain-hit-florida-as-hurricane-irma-approaches/\" target=\"_blank\">(They weren't the strongest ever recorded.)</a></span></span>,\n",
       " <span class=\"short-desc\"><strong>Sept. 22\\xa0</strong>\\u201cWe've been dealing with ICE, we've been dealing with the Border Patrol. They both endorsed me.\\u201d <span class=\"short-truth\"><a href=\"http://www.politifact.com/truth-o-meter/statements/2016/oct/10/donald-trump/trump-says-ice-endorsed-him/\" target=\"_blank\">(Neither agency endorsed him; only their unions did.)</a></span></span>,\n",
       " <span class=\"short-desc\"><strong>Sept. 22\\xa0</strong>\\u201cSo he started off here, he was in third or fourth, he went to third, second, and now it's like almost pretty even.\\u201d <span class=\"short-truth\"><a href=\"https://www.realclearpolitics.com/epolls/2017/senate/al/alabama_senate_special_election_republican_primary-6220.html#polls\" target=\"_blank\">(Strange consistently polled first or second in the Alabama Republican primary.)</a></span></span>,\n",
       " <span class=\"short-desc\"><strong>Sept. 29\\xa0</strong>\\u201cWith the F-35 fighter plane  \\u2013 me, myself  \\u2013 I've saved hundreds of millions of dollars in negotiating.\\u201d <span class=\"short-truth\"><a href=\"https://www.washingtonpost.com/news/fact-checker/wp/2017/01/31/trumps-claim-taking-credit-for-cutting-600-million-from-the-f-35-program/?utm_term=.ef182851faef\" target=\"_blank\">(The cost cuts were planned before he became president.)</a></span></span>,\n",
       " <span class=\"short-desc\"><strong>Sept. 27\\xa0</strong>\\u201cI\\u2019m doing the right thing, and it\\u2019s not good for me.\\u201d <span class=\"short-truth\"><a href=\"https://www.washingtonpost.com/news/fact-checker/wp/2017/09/28/fact-checking-president-trumps-tax-speech-in-indianapolis/?utm_term=.1c2a17457496\" target=\"_blank\">(All available evidence suggests he would benefit.)</a></span></span>,\n",
       " <span class=\"short-desc\"><strong>Sept. 27\\xa0</strong>\\u201cTo protect millions of small businesses and the American farmer, we are finally ending the crushing, the horrible, the unfair estate tax.\\u201d <span class=\"short-truth\"><a href=\"http://www.politifact.com/truth-o-meter/statements/2017/sep/28/donald-trump/donald-trumps-pants-fire-claim-about-estate-tax-sm/\" target=\"_blank\">(The real number of small businesses and farmers is vastly smaller.)</a></span></span>,\n",
       " <span class=\"short-desc\"><strong>Sept. 27\\xa0</strong>\\u201cNo, I don't benefit. I don't benefit. In fact, very very strongly, as you see, I think there's very little benefit for people of wealth.\\u201d <span class=\"short-truth\"><a href=\"http://www.politifact.com/truth-o-meter/statements/2017/sep/28/donald-trump/donald-trumps-dubious-claim-his-tax-plan-wont-bene/\" target=\"_blank\">(The tax plan would personally benefit Trump\\xa0and other wealthy individuals.)</a></span></span>,\n",
       " <span class=\"short-desc\"><strong>Sept. 27\\xa0</strong>\\u201cFacebook was always anti-Trump.The Networks were always anti-Trump hence,Fake News, @nytimes(apologized) &amp; @WaPo were anti-Trump.\\u201d <span class=\"short-truth\"><a href=\"https://www.nytimes.com/2016/11/13/us/elections/to-our-readers-from-the-publisher-and-executive-editor.html\" target=\"_blank\">(The Times did not apologize for its Trump coverage.)</a></span></span>,\n",
       " <span class=\"short-desc\"><strong>Sept. 28\\xa0</strong>\\u201cI mean right now, we're the highest-taxed nation in the world.\\u201d <span class=\"short-truth\"><a href=\"http://www.politifact.com/truth-o-meter/statements/2016/may/08/donald-trump/donald-trump-us-not-highest-taxed-nation-in-world/\" target=\"_blank\">(We're not.)</a></span></span>,\n",
       " <span class=\"short-desc\"><strong>Oct. 3\\xa0</strong>\\u201cBut the Coast Guard itself saved in Texas 16,000 lives, and they went right through that hurricane.\\u201d <span class=\"short-truth\"><a href=\"https://content.govdelivery.com/accounts/USDHSCG/bulletins/1b5ace3\" target=\"_blank\">(The real number is smaller.)</a></span></span>,\n",
       " <span class=\"short-desc\"><strong>Oct. 3\\xa0</strong>\\u201cBut that's an expensive plane that you can't see. And as you probably heard, we cut the price very substantially  \\u2013 something that other administrations would never have done, that I can tell you.\\u201d <span class=\"short-truth\"><a href=\"https://www.washingtonpost.com/news/fact-checker/wp/2017/01/31/trumps-claim-taking-credit-for-cutting-600-million-from-the-f-35-program/?utm_term=.ef182851faef\" target=\"_blank\">(The cost cuts were planned before he became president.)</a></span></span>,\n",
       " <span class=\"short-desc\"><strong>Oct. 6\\xa0</strong>\\u201cI was able to reduce the price of the Lockheed by billions of dollars.\\u201d <span class=\"short-truth\"><a href=\"https://www.washingtonpost.com/news/fact-checker/wp/2017/01/31/trumps-claim-taking-credit-for-cutting-600-million-from-the-f-35-program/?utm_term=.ef182851faef\" target=\"_blank\">(The cost cuts were planned before he became president.)</a></span></span>,\n",
       " <span class=\"short-desc\"><strong>Oct. 6\\xa0</strong>\\u201cWe're the highest-taxed developed nation in the world, probably the highest-taxed nation in the world.\\u201d <span class=\"short-truth\"><a href=\"http://www.politifact.com/truth-o-meter/statements/2016/may/08/donald-trump/donald-trump-us-not-highest-taxed-nation-in-world/\" target=\"_blank\">(We're not.)</a></span></span>,\n",
       " <span class=\"short-desc\"><strong>Oct. 6\\xa0</strong>\\u201cThey also just said that there has been absolutely no collusion. They just said that. Yesterday. Two days ago. Senate. There has been no collusion.\\u201d <span class=\"short-truth\"><a href=\"http://www.cnn.com/TRANSCRIPTS/1710/04/ip.02.html\" target=\"_blank\">(The Senate didn't say that.)</a></span></span>,\n",
       " <span class=\"short-desc\"><strong>Oct. 6\\xa0</strong>\\u201cThis tax cut and tax reform is going very well, and it's going to be a tremendous boost for our country, including the fact that we're the highest-taxed nation in the world.\\u201d <span class=\"short-truth\"><a href=\"http://www.politifact.com/truth-o-meter/statements/2016/may/08/donald-trump/donald-trump-us-not-highest-taxed-nation-in-world/\" target=\"_blank\">(We're not.)</a></span></span>,\n",
       " <span class=\"short-desc\"><strong>Oct. 7\\xa0</strong>\\u201cWe're the highest-taxed nation in the world.\\u201d <span class=\"short-truth\"><a href=\"http://www.politifact.com/truth-o-meter/statements/2016/may/08/donald-trump/donald-trump-us-not-highest-taxed-nation-in-world/\" target=\"_blank\">(We're not.)</a></span></span>,\n",
       " <span class=\"short-desc\"><strong>Oct. 7\\xa0</strong>\\u201cThe Coast Guard, in Texas, and all over, but with the job they did in Texas, I saw, they saved 16,000 lives.\\u201d <span class=\"short-truth\"><a href=\"https://content.govdelivery.com/accounts/USDHSCG/bulletins/1b5ace3\" target=\"_blank\">(The real number is smaller.)</a></span></span>,\n",
       " <span class=\"short-desc\"><strong>Oct. 7\\xa0</strong>\\u201cObama should have never gotten out the way he got out. That's how ISIS formed.\\u201d <span class=\"short-truth\"><a href=\"https://www.nytimes.com/2015/11/19/world/middleeast/in-rise-of-isis-no-single-missed-key-but-many-strands-of-blame.html\" target=\"_blank\">(The group\\u2019s origins date to 2004.)</a></span></span>,\n",
       " <span class=\"short-desc\"><strong>Oct. 10\\xa0</strong>\\u201cThe Failing @nytimes set Liddle' Bob Corker up by recording his conversation. Was made to sound a fool, and that's what I am dealing with!\\u201d <span class=\"short-truth\"><a href=\"https://www.nytimes.com/2017/10/10/reader-center/trump-claims-we-tricked-bob-corker-heres-the-truth.html?_r=0\" target=\"_blank\">(Corker asked the Times reporter to record the call; his aides recorded it too.)</a></span></span>,\n",
       " <span class=\"short-desc\"><strong>Oct. 10\\xa0</strong>\\u201cWe're the highest-taxed nation in the world.\\u201d <span class=\"short-truth\"><a href=\"http://www.politifact.com/truth-o-meter/statements/2016/may/08/donald-trump/donald-trump-us-not-highest-taxed-nation-in-world/\" target=\"_blank\">(We're not.)</a></span></span>,\n",
       " <span class=\"short-desc\"><strong>Oct. 11\\xa0</strong>\\u201cWe have missiles that can knock out a missile in the air. Ninety seven per cent of the time. If you send two of them, it's going to get knocked out.\\u201d <span class=\"short-truth\"><a href=\"https://warontherocks.com/2017/10/deadly-overconfidence-trump-thinks-missile-defenses-work-against-north-korea-and-that-should-scare-you/\" target=\"_blank\">(The effectiveness rate is about 60 percent.)</a></span></span>,\n",
       " <span class=\"short-desc\"><strong>Oct. 16\\xa0</strong>\\u201cWe're the highest-taxed country in the world.\\u201d <span class=\"short-truth\"><a href=\"http://www.politifact.com/truth-o-meter/statements/2016/may/08/donald-trump/donald-trump-us-not-highest-taxed-nation-in-world/\" target=\"_blank\">(We're not.)</a></span></span>,\n",
       " <span class=\"short-desc\"><strong>Oct. 16\\xa0</strong>\\u201cI hear that Ireland is going to be reducing their corporate rates down to 8 percent from 12.\\u201d <span class=\"short-truth\"><a href=\"https://www.snopes.com/trump-ireland-tax/\" target=\"_blank\">(Ireland has no plans to cut its tax rate.)</a></span></span>,\n",
       " <span class=\"short-desc\"><strong>Oct. 16\\xa0</strong>\\u201cIf you look at President Obama and other presidents, most of them didn\\u2019t make calls.\\u201d <span class=\"short-truth\"><a href=\"https://www.nytimes.com/2017/10/16/us/politics/trump-obama-killed-soldiers.html\" target=\"_blank\">(They did call families of soldiers killed in action.)</a></span></span>,\n",
       " <span class=\"short-desc\"><strong>Oct. 16\\xa0</strong>\\u201cAll I can say is it's totally fake news, just fake. It's fake. It's made-up stuff, and it's disgraceful what happens, but that happens in the world of politics.\\u201d <span class=\"short-truth\"><a href=\"https://www.washingtonpost.com/news/fact-checker/wp/2017/10/27/trump-says-sex-harassment-claims-are-fake-news-but-there-are-corroborators/?utm_term=.23c3b28384e2\" target=\"_blank\">(Trump himself has bragged about groping women.)</a></span></span>,\n",
       " <span class=\"short-desc\"><strong>Oct. 17\\xa0</strong>\\u201cWe're the highest taxed nation in the world.\\u201d <span class=\"short-truth\"><a href=\"http://www.politifact.com/truth-o-meter/statements/2016/may/08/donald-trump/donald-trump-us-not-highest-taxed-nation-in-world/\" target=\"_blank\">(We're not.)</a></span></span>,\n",
       " <span class=\"short-desc\"><strong>Oct. 17\\xa0</strong>\\u201cRight now, we are the highest-taxed nation anywhere in the world. You can even say developed or undeveloped.\\u201d <span class=\"short-truth\"><a href=\"http://www.politifact.com/truth-o-meter/statements/2016/may/08/donald-trump/donald-trump-us-not-highest-taxed-nation-in-world/\" target=\"_blank\">(We're not.)</a></span></span>,\n",
       " <span class=\"short-desc\"><strong>Oct. 17\\xa0</strong>\\u201cAs far as I'm concerned, I think we're really essentially the highest. But if you'd like to add the developed nation, you can say that, too.\\u201d <span class=\"short-truth\"><a href=\"http://www.politifact.com/truth-o-meter/statements/2016/may/08/donald-trump/donald-trump-us-not-highest-taxed-nation-in-world/\" target=\"_blank\">(Taxes in the U.S. are lower than in most developed countries.)</a></span></span>,\n",
       " <span class=\"short-desc\"><strong>Oct. 17\\xa0</strong>\\u201cWe're the highest-taxed nation in the world. We are taxed beyond belief.\\u201d <span class=\"short-truth\"><a href=\"http://www.politifact.com/truth-o-meter/statements/2016/may/08/donald-trump/donald-trump-us-not-highest-taxed-nation-in-world/\" target=\"_blank\">(We're not.)</a></span></span>,\n",
       " <span class=\"short-desc\"><strong>Oct. 17\\xa0</strong>\\u201cWell, we're the highest-taxed nation in the world.\\u201d <span class=\"short-truth\"><a href=\"http://www.politifact.com/truth-o-meter/statements/2016/may/08/donald-trump/donald-trump-us-not-highest-taxed-nation-in-world/\" target=\"_blank\">(We're not.)</a></span></span>,\n",
       " <span class=\"short-desc\"><strong>Oct. 17\\xa0</strong>\\u201cI wish President Obama didn't get out the way he got out. Because that left a vacuum and ISIS was formed.\\u201d <span class=\"short-truth\"><a href=\"https://www.nytimes.com/2015/11/19/world/middleeast/in-rise-of-isis-no-single-missed-key-but-many-strands-of-blame.html\" target=\"_blank\">(The group\\u2019s origins date to 2004.)</a></span></span>,\n",
       " <span class=\"short-desc\"><strong>Oct. 18\\xa0</strong>\\u201cDemocrat Congresswoman totally fabricated what I said to the wife of a soldier who died in action (and I have proof).\\u201d <span class=\"short-truth\"><a href=\"http://time.com/4993045/myeshia-johnson-donald-trump-frederica-wilson/\" target=\"_blank\">(The wife confirmed Representative Frederica Wilson's account.)</a></span></span>,\n",
       " <span class=\"short-desc\"><strong>Oct. 18\\xa0</strong>\\u201cThe Coast Guard in Texas saved 16,000 lives.\\u201d <span class=\"short-truth\"><a href=\"https://content.govdelivery.com/accounts/USDHSCG/bulletins/1b5ace3\" target=\"_blank\">(The real number was smaller.)</a></span></span>,\n",
       " <span class=\"short-desc\"><strong>Oct. 18\\xa0</strong>\\u201cNobody has ever heard of a five hitting land.\\u201d <span class=\"short-truth\"><a href=\"http://www.cnn.com/2017/09/07/us/three-category-5-hurricanes-landfall-trnd/index.html\" target=\"_blank\">(Category 5 storms have hit land before.)</a></span></span>,\n",
       " <span class=\"short-desc\"><strong>Oct. 24\\xa0</strong>\\u201cUnder our plan, more than 30 million Americans who own small businesses will get a 40 per cent cut to their top marginal tax rate.\\u201d <span class=\"short-truth\"><a href=\"http://www.businessinsider.com/trump-small-business-tax-cut-pass-through-s-corporations-2017-10\" target=\"_blank\">(The real number is estimated to be less than 1 million.)</a></span></span>,\n",
       " <span class=\"short-desc\"><strong>Oct. 25\\xa0</strong>\\u201cWe have trade deficits with almost everybody.\\u201d <span class=\"short-truth\"><a href=\"https://www.bea.gov/newsreleases/international/trade/2017/trad0917.htm\" target=\"_blank\">(We have trade surpluses with more than 100 countries.)</a></span></span>,\n",
       " <span class=\"short-desc\"><strong>Oct. 27\\xa0</strong>\\u201cWacky &amp; totally unhinged Tom Steyer, who has been fighting me and my Make America Great Again agenda from beginning, never wins elections!\\u201d <span class=\"short-truth\"><a href=\"https://www.opensecrets.org/donor-lookup/results?name=Thomas+Steyer\" target=\"_blank\">(Steyer has financially supported many winning candidates.)</a></span></span>,\n",
       " <span class=\"short-desc\"><strong>Nov. 1\\xa0</strong>\\u201cAgain, we're the highest-taxed nation, just about, in the world.\\u201d <span class=\"short-truth\"><a href=\"http://www.politifact.com/truth-o-meter/statements/2016/may/08/donald-trump/donald-trump-us-not-highest-taxed-nation-in-world/\" target=\"_blank\">(We're not.)</a></span></span>,\n",
       " <span class=\"short-desc\"><strong>Nov. 7\\xa0</strong>\\u201cWhen you look at the city with the strongest gun laws in our nation, it's Chicago.\\u201d <span class=\"short-truth\"><a href=\"http://www.politifact.com/truth-o-meter/statements/2017/nov/07/donald-trump/trump-wrongly-repeats-chicago-has-strongest-gun-la/\" target=\"_blank\">(Several other cities, including New York and Los Angeles, have stronger gun laws.)</a></span></span>,\n",
       " <span class=\"short-desc\"><strong>Nov. 11\\xa0</strong>\\u201cI'd rather have him  \\u2013 you know, work with him on the Ukraine than standing and arguing about whether or not  \\u2013 because that whole thing was set up by the Democrats.\\u201d <span class=\"short-truth\"><a href=\"https://www.nytimes.com/interactive/2017/12/10/us/politics/trump-and-russia.html\" target=\"_blank\">(There is no evidence that Democrats \"set up\" Russian interference in the election.)</a></span></span>]"
      ]
     },
     "execution_count": 23,
     "metadata": {},
     "output_type": "execute_result"
    }
   ],
   "source": [
    "results"
   ]
  },
  {
   "cell_type": "code",
   "execution_count": 24,
   "metadata": {},
   "outputs": [
    {
     "data": {
      "text/plain": [
       "180"
      ]
     },
     "execution_count": 24,
     "metadata": {},
     "output_type": "execute_result"
    }
   ],
   "source": [
    "len(results)"
   ]
  },
  {
   "cell_type": "code",
   "execution_count": 25,
   "metadata": {},
   "outputs": [
    {
     "data": {
      "text/plain": [
       "<span class=\"short-desc\"><strong>Nov. 11\\xa0</strong>\\u201cI'd rather have him  \\u2013 you know, work with him on the Ukraine than standing and arguing about whether or not  \\u2013 because that whole thing was set up by the Democrats.\\u201d <span class=\"short-truth\"><a href=\"https://www.nytimes.com/interactive/2017/12/10/us/politics/trump-and-russia.html\" target=\"_blank\">(There is no evidence that Democrats \"set up\" Russian interference in the election.)</a></span></span>"
      ]
     },
     "execution_count": 25,
     "metadata": {},
     "output_type": "execute_result"
    }
   ],
   "source": [
    "results[-1]"
   ]
  },
  {
   "cell_type": "raw",
   "metadata": {},
   "source": [
    "results[0:3]"
   ]
  },
  {
   "cell_type": "code",
   "execution_count": 18,
   "metadata": {},
   "outputs": [
    {
     "data": {
      "text/plain": [
       "[<span class=\"short-desc\"><strong>Jan. 21\\xa0</strong>\\u201cI wasn't a fan of Iraq. I didn't want to go into Iraq.\\u201d <span class=\"short-truth\"><a href=\"https://www.buzzfeed.com/andrewkaczynski/in-2002-donald-trump-said-he-supported-invading-iraq-on-the\" target=\"_blank\">(He was for an invasion before he was against it.)</a></span></span>,\n",
       " <span class=\"short-desc\"><strong>Jan. 21\\xa0</strong>\\u201cA reporter for Time magazine \\u2014 and I have been on their cover 14 or 15 times. I think we have the all-time record in the history of Time magazine.\\u201d <span class=\"short-truth\"><a href=\"http://nation.time.com/2013/11/06/10-things-you-didnt-know-about-time/\" target=\"_blank\">(Trump was on the cover 11 times and Nixon appeared 55 times.)</a></span></span>,\n",
       " <span class=\"short-desc\"><strong>Jan. 23\\xa0</strong>\\u201cBetween 3 million and 5 million illegal votes caused me to lose the popular vote.\\u201d <span class=\"short-truth\"><a href=\"https://www.nytimes.com/2017/01/23/us/politics/donald-trump-congress-democrats.html\" target=\"_blank\">(There's no evidence of illegal voting.)</a></span></span>]"
      ]
     },
     "execution_count": 18,
     "metadata": {},
     "output_type": "execute_result"
    }
   ],
   "source": [
    "results[0:3]"
   ]
  },
  {
   "cell_type": "code",
   "execution_count": 19,
   "metadata": {},
   "outputs": [
    {
     "data": {
      "text/plain": [
       "<span class=\"short-desc\"><strong>Jan. 21\\xa0</strong>\\u201cI wasn't a fan of Iraq. I didn't want to go into Iraq.\\u201d <span class=\"short-truth\"><a href=\"https://www.buzzfeed.com/andrewkaczynski/in-2002-donald-trump-said-he-supported-invading-iraq-on-the\" target=\"_blank\">(He was for an invasion before he was against it.)</a></span></span>"
      ]
     },
     "execution_count": 19,
     "metadata": {},
     "output_type": "execute_result"
    }
   ],
   "source": [
    "first_result = results[0]\n",
    "first_result"
   ]
  },
  {
   "cell_type": "code",
   "execution_count": 20,
   "metadata": {},
   "outputs": [
    {
     "data": {
      "text/plain": [
       "<strong>Jan. 21\\xa0</strong>"
      ]
     },
     "execution_count": 20,
     "metadata": {},
     "output_type": "execute_result"
    }
   ],
   "source": [
    "#extracting the date\n",
    "first_result.find('strong')"
   ]
  },
  {
   "cell_type": "code",
   "execution_count": 21,
   "metadata": {},
   "outputs": [
    {
     "data": {
      "text/plain": [
       "u'Jan. 21\\xa0'"
      ]
     },
     "execution_count": 21,
     "metadata": {},
     "output_type": "execute_result"
    }
   ],
   "source": [
    "first_result.find('strong').text #to remove strong tag"
   ]
  },
  {
   "cell_type": "code",
   "execution_count": 26,
   "metadata": {},
   "outputs": [
    {
     "data": {
      "text/plain": [
       "u'Jan. 21'"
      ]
     },
     "execution_count": 26,
     "metadata": {},
     "output_type": "execute_result"
    }
   ],
   "source": [
    "first_result.find('strong').text[0:-1] #to remove xa0"
   ]
  },
  {
   "cell_type": "code",
   "execution_count": 27,
   "metadata": {},
   "outputs": [
    {
     "data": {
      "text/plain": [
       "u'Jan. 21,2017'"
      ]
     },
     "execution_count": 27,
     "metadata": {},
     "output_type": "execute_result"
    }
   ],
   "source": [
    "first_result.find('strong').text[0:-1] + ',2017'"
   ]
  },
  {
   "cell_type": "code",
   "execution_count": 29,
   "metadata": {},
   "outputs": [
    {
     "data": {
      "text/plain": [
       "<span class=\"short-desc\"><strong>Jan. 21\\xa0</strong>\\u201cI wasn't a fan of Iraq. I didn't want to go into Iraq.\\u201d <span class=\"short-truth\"><a href=\"https://www.buzzfeed.com/andrewkaczynski/in-2002-donald-trump-said-he-supported-invading-iraq-on-the\" target=\"_blank\">(He was for an invasion before he was against it.)</a></span></span>"
      ]
     },
     "execution_count": 29,
     "metadata": {},
     "output_type": "execute_result"
    }
   ],
   "source": [
    "#extracting the lie\n",
    "first_result"
   ]
  },
  {
   "cell_type": "code",
   "execution_count": 30,
   "metadata": {},
   "outputs": [
    {
     "data": {
      "text/plain": [
       "[<strong>Jan. 21\\xa0</strong>,\n",
       " u\"\\u201cI wasn't a fan of Iraq. I didn't want to go into Iraq.\\u201d \",\n",
       " <span class=\"short-truth\"><a href=\"https://www.buzzfeed.com/andrewkaczynski/in-2002-donald-trump-said-he-supported-invading-iraq-on-the\" target=\"_blank\">(He was for an invasion before he was against it.)</a></span>]"
      ]
     },
     "execution_count": 30,
     "metadata": {},
     "output_type": "execute_result"
    }
   ],
   "source": [
    "first_result.contents"
   ]
  },
  {
   "cell_type": "code",
   "execution_count": 31,
   "metadata": {},
   "outputs": [
    {
     "data": {
      "text/plain": [
       "u\"\\u201cI wasn't a fan of Iraq. I didn't want to go into Iraq.\\u201d \""
      ]
     },
     "execution_count": 31,
     "metadata": {},
     "output_type": "execute_result"
    }
   ],
   "source": [
    "first_result.contents[1]"
   ]
  },
  {
   "cell_type": "code",
   "execution_count": 32,
   "metadata": {},
   "outputs": [
    {
     "data": {
      "text/plain": [
       "u\"I wasn't a fan of Iraq. I didn't want to go into Iraq.\""
      ]
     },
     "execution_count": 32,
     "metadata": {},
     "output_type": "execute_result"
    }
   ],
   "source": [
    "first_result.contents[1][1:-2]"
   ]
  },
  {
   "cell_type": "code",
   "execution_count": 33,
   "metadata": {},
   "outputs": [
    {
     "data": {
      "text/plain": [
       "<span class=\"short-truth\"><a href=\"https://www.buzzfeed.com/andrewkaczynski/in-2002-donald-trump-said-he-supported-invading-iraq-on-the\" target=\"_blank\">(He was for an invasion before he was against it.)</a></span>"
      ]
     },
     "execution_count": 33,
     "metadata": {},
     "output_type": "execute_result"
    }
   ],
   "source": [
    "#extracting the explanation\n",
    "first_result.contents[2]"
   ]
  },
  {
   "cell_type": "code",
   "execution_count": 34,
   "metadata": {},
   "outputs": [
    {
     "data": {
      "text/plain": [
       "<a href=\"https://www.buzzfeed.com/andrewkaczynski/in-2002-donald-trump-said-he-supported-invading-iraq-on-the\" target=\"_blank\">(He was for an invasion before he was against it.)</a>"
      ]
     },
     "execution_count": 34,
     "metadata": {},
     "output_type": "execute_result"
    }
   ],
   "source": [
    "first_result.find('a')"
   ]
  },
  {
   "cell_type": "code",
   "execution_count": 36,
   "metadata": {},
   "outputs": [
    {
     "data": {
      "text/plain": [
       "u'He was for an invasion before he was against it.'"
      ]
     },
     "execution_count": 36,
     "metadata": {},
     "output_type": "execute_result"
    }
   ],
   "source": [
    "first_result.find('a').text[1:-1]"
   ]
  },
  {
   "cell_type": "code",
   "execution_count": 37,
   "metadata": {},
   "outputs": [
    {
     "data": {
      "text/plain": [
       "u'https://www.buzzfeed.com/andrewkaczynski/in-2002-donald-trump-said-he-supported-invading-iraq-on-the'"
      ]
     },
     "execution_count": 37,
     "metadata": {},
     "output_type": "execute_result"
    }
   ],
   "source": [
    "#extracting the url\n",
    "first_result.find('a')['href']"
   ]
  },
  {
   "cell_type": "code",
   "execution_count": 38,
   "metadata": {},
   "outputs": [],
   "source": [
    "#building the dataset\n",
    "records=[]\n",
    "for result in results:\n",
    "    date=result.find('strong').text[0:-1] + ', 2017'\n",
    "    lie=result.contents[1][1:-2]\n",
    "    explanation=result.find('a').text[1:-1]\n",
    "    url=result.find('a')['href']\n",
    "    records.append((date,lie,explanation,url))"
   ]
  },
  {
   "cell_type": "code",
   "execution_count": 39,
   "metadata": {},
   "outputs": [
    {
     "data": {
      "text/plain": [
       "180"
      ]
     },
     "execution_count": 39,
     "metadata": {},
     "output_type": "execute_result"
    }
   ],
   "source": [
    "len(records)"
   ]
  },
  {
   "cell_type": "code",
   "execution_count": 40,
   "metadata": {},
   "outputs": [],
   "source": [
    "import pandas as pd"
   ]
  },
  {
   "cell_type": "code",
   "execution_count": 41,
   "metadata": {},
   "outputs": [],
   "source": [
    "df=pd.DataFrame(records,columns=['date','lie','explanation','url'])"
   ]
  },
  {
   "cell_type": "code",
   "execution_count": 42,
   "metadata": {},
   "outputs": [
    {
     "data": {
      "text/html": [
       "<div>\n",
       "<style scoped>\n",
       "    .dataframe tbody tr th:only-of-type {\n",
       "        vertical-align: middle;\n",
       "    }\n",
       "\n",
       "    .dataframe tbody tr th {\n",
       "        vertical-align: top;\n",
       "    }\n",
       "\n",
       "    .dataframe thead th {\n",
       "        text-align: right;\n",
       "    }\n",
       "</style>\n",
       "<table border=\"1\" class=\"dataframe\">\n",
       "  <thead>\n",
       "    <tr style=\"text-align: right;\">\n",
       "      <th></th>\n",
       "      <th>date</th>\n",
       "      <th>lie</th>\n",
       "      <th>explanation</th>\n",
       "      <th>url</th>\n",
       "    </tr>\n",
       "  </thead>\n",
       "  <tbody>\n",
       "    <tr>\n",
       "      <th>0</th>\n",
       "      <td>Jan. 21, 2017</td>\n",
       "      <td>I wasn't a fan of Iraq. I didn't want to go in...</td>\n",
       "      <td>He was for an invasion before he was against it.</td>\n",
       "      <td>https://www.buzzfeed.com/andrewkaczynski/in-20...</td>\n",
       "    </tr>\n",
       "    <tr>\n",
       "      <th>1</th>\n",
       "      <td>Jan. 21, 2017</td>\n",
       "      <td>A reporter for Time magazine — and I have been...</td>\n",
       "      <td>Trump was on the cover 11 times and Nixon appe...</td>\n",
       "      <td>http://nation.time.com/2013/11/06/10-things-yo...</td>\n",
       "    </tr>\n",
       "    <tr>\n",
       "      <th>2</th>\n",
       "      <td>Jan. 23, 2017</td>\n",
       "      <td>Between 3 million and 5 million illegal votes ...</td>\n",
       "      <td>There's no evidence of illegal voting.</td>\n",
       "      <td>https://www.nytimes.com/2017/01/23/us/politics...</td>\n",
       "    </tr>\n",
       "    <tr>\n",
       "      <th>3</th>\n",
       "      <td>Jan. 25, 2017</td>\n",
       "      <td>Now, the audience was the biggest ever. But th...</td>\n",
       "      <td>Official aerial photos show Obama's 2009 inaug...</td>\n",
       "      <td>https://www.nytimes.com/2017/01/21/us/politics...</td>\n",
       "    </tr>\n",
       "    <tr>\n",
       "      <th>4</th>\n",
       "      <td>Jan. 25, 2017</td>\n",
       "      <td>Take a look at the Pew reports (which show vot...</td>\n",
       "      <td>The report never mentioned voter fraud.</td>\n",
       "      <td>https://www.nytimes.com/2017/01/24/us/politics...</td>\n",
       "    </tr>\n",
       "  </tbody>\n",
       "</table>\n",
       "</div>"
      ],
      "text/plain": [
       "            date                                                lie  \\\n",
       "0  Jan. 21, 2017  I wasn't a fan of Iraq. I didn't want to go in...   \n",
       "1  Jan. 21, 2017  A reporter for Time magazine — and I have been...   \n",
       "2  Jan. 23, 2017  Between 3 million and 5 million illegal votes ...   \n",
       "3  Jan. 25, 2017  Now, the audience was the biggest ever. But th...   \n",
       "4  Jan. 25, 2017  Take a look at the Pew reports (which show vot...   \n",
       "\n",
       "                                         explanation  \\\n",
       "0   He was for an invasion before he was against it.   \n",
       "1  Trump was on the cover 11 times and Nixon appe...   \n",
       "2             There's no evidence of illegal voting.   \n",
       "3  Official aerial photos show Obama's 2009 inaug...   \n",
       "4            The report never mentioned voter fraud.   \n",
       "\n",
       "                                                 url  \n",
       "0  https://www.buzzfeed.com/andrewkaczynski/in-20...  \n",
       "1  http://nation.time.com/2013/11/06/10-things-yo...  \n",
       "2  https://www.nytimes.com/2017/01/23/us/politics...  \n",
       "3  https://www.nytimes.com/2017/01/21/us/politics...  \n",
       "4  https://www.nytimes.com/2017/01/24/us/politics...  "
      ]
     },
     "execution_count": 42,
     "metadata": {},
     "output_type": "execute_result"
    }
   ],
   "source": [
    "df.head()"
   ]
  },
  {
   "cell_type": "code",
   "execution_count": 43,
   "metadata": {},
   "outputs": [
    {
     "data": {
      "text/html": [
       "<div>\n",
       "<style scoped>\n",
       "    .dataframe tbody tr th:only-of-type {\n",
       "        vertical-align: middle;\n",
       "    }\n",
       "\n",
       "    .dataframe tbody tr th {\n",
       "        vertical-align: top;\n",
       "    }\n",
       "\n",
       "    .dataframe thead th {\n",
       "        text-align: right;\n",
       "    }\n",
       "</style>\n",
       "<table border=\"1\" class=\"dataframe\">\n",
       "  <thead>\n",
       "    <tr style=\"text-align: right;\">\n",
       "      <th></th>\n",
       "      <th>date</th>\n",
       "      <th>lie</th>\n",
       "      <th>explanation</th>\n",
       "      <th>url</th>\n",
       "    </tr>\n",
       "  </thead>\n",
       "  <tbody>\n",
       "    <tr>\n",
       "      <th>175</th>\n",
       "      <td>Oct. 25, 2017</td>\n",
       "      <td>We have trade deficits with almost everybody.</td>\n",
       "      <td>We have trade surpluses with more than 100 cou...</td>\n",
       "      <td>https://www.bea.gov/newsreleases/international...</td>\n",
       "    </tr>\n",
       "    <tr>\n",
       "      <th>176</th>\n",
       "      <td>Oct. 27, 2017</td>\n",
       "      <td>Wacky &amp; totally unhinged Tom Steyer, who has b...</td>\n",
       "      <td>Steyer has financially supported many winning ...</td>\n",
       "      <td>https://www.opensecrets.org/donor-lookup/resul...</td>\n",
       "    </tr>\n",
       "    <tr>\n",
       "      <th>177</th>\n",
       "      <td>Nov. 1, 2017</td>\n",
       "      <td>Again, we're the highest-taxed nation, just ab...</td>\n",
       "      <td>We're not.</td>\n",
       "      <td>http://www.politifact.com/truth-o-meter/statem...</td>\n",
       "    </tr>\n",
       "    <tr>\n",
       "      <th>178</th>\n",
       "      <td>Nov. 7, 2017</td>\n",
       "      <td>When you look at the city with the strongest g...</td>\n",
       "      <td>Several other cities, including New York and L...</td>\n",
       "      <td>http://www.politifact.com/truth-o-meter/statem...</td>\n",
       "    </tr>\n",
       "    <tr>\n",
       "      <th>179</th>\n",
       "      <td>Nov. 11, 2017</td>\n",
       "      <td>I'd rather have him  – you know, work with him...</td>\n",
       "      <td>There is no evidence that Democrats \"set up\" R...</td>\n",
       "      <td>https://www.nytimes.com/interactive/2017/12/10...</td>\n",
       "    </tr>\n",
       "  </tbody>\n",
       "</table>\n",
       "</div>"
      ],
      "text/plain": [
       "              date                                                lie  \\\n",
       "175  Oct. 25, 2017      We have trade deficits with almost everybody.   \n",
       "176  Oct. 27, 2017  Wacky & totally unhinged Tom Steyer, who has b...   \n",
       "177   Nov. 1, 2017  Again, we're the highest-taxed nation, just ab...   \n",
       "178   Nov. 7, 2017  When you look at the city with the strongest g...   \n",
       "179  Nov. 11, 2017  I'd rather have him  – you know, work with him...   \n",
       "\n",
       "                                           explanation  \\\n",
       "175  We have trade surpluses with more than 100 cou...   \n",
       "176  Steyer has financially supported many winning ...   \n",
       "177                                         We're not.   \n",
       "178  Several other cities, including New York and L...   \n",
       "179  There is no evidence that Democrats \"set up\" R...   \n",
       "\n",
       "                                                   url  \n",
       "175  https://www.bea.gov/newsreleases/international...  \n",
       "176  https://www.opensecrets.org/donor-lookup/resul...  \n",
       "177  http://www.politifact.com/truth-o-meter/statem...  \n",
       "178  http://www.politifact.com/truth-o-meter/statem...  \n",
       "179  https://www.nytimes.com/interactive/2017/12/10...  "
      ]
     },
     "execution_count": 43,
     "metadata": {},
     "output_type": "execute_result"
    }
   ],
   "source": [
    "df.tail()"
   ]
  },
  {
   "cell_type": "code",
   "execution_count": 44,
   "metadata": {},
   "outputs": [],
   "source": [
    "df['date'] = pd.to_datetime(df['date']) #convert date column to datetime format"
   ]
  },
  {
   "cell_type": "code",
   "execution_count": 45,
   "metadata": {},
   "outputs": [
    {
     "data": {
      "text/html": [
       "<div>\n",
       "<style scoped>\n",
       "    .dataframe tbody tr th:only-of-type {\n",
       "        vertical-align: middle;\n",
       "    }\n",
       "\n",
       "    .dataframe tbody tr th {\n",
       "        vertical-align: top;\n",
       "    }\n",
       "\n",
       "    .dataframe thead th {\n",
       "        text-align: right;\n",
       "    }\n",
       "</style>\n",
       "<table border=\"1\" class=\"dataframe\">\n",
       "  <thead>\n",
       "    <tr style=\"text-align: right;\">\n",
       "      <th></th>\n",
       "      <th>date</th>\n",
       "      <th>lie</th>\n",
       "      <th>explanation</th>\n",
       "      <th>url</th>\n",
       "    </tr>\n",
       "  </thead>\n",
       "  <tbody>\n",
       "    <tr>\n",
       "      <th>0</th>\n",
       "      <td>2017-01-21</td>\n",
       "      <td>I wasn't a fan of Iraq. I didn't want to go in...</td>\n",
       "      <td>He was for an invasion before he was against it.</td>\n",
       "      <td>https://www.buzzfeed.com/andrewkaczynski/in-20...</td>\n",
       "    </tr>\n",
       "    <tr>\n",
       "      <th>1</th>\n",
       "      <td>2017-01-21</td>\n",
       "      <td>A reporter for Time magazine — and I have been...</td>\n",
       "      <td>Trump was on the cover 11 times and Nixon appe...</td>\n",
       "      <td>http://nation.time.com/2013/11/06/10-things-yo...</td>\n",
       "    </tr>\n",
       "    <tr>\n",
       "      <th>2</th>\n",
       "      <td>2017-01-23</td>\n",
       "      <td>Between 3 million and 5 million illegal votes ...</td>\n",
       "      <td>There's no evidence of illegal voting.</td>\n",
       "      <td>https://www.nytimes.com/2017/01/23/us/politics...</td>\n",
       "    </tr>\n",
       "    <tr>\n",
       "      <th>3</th>\n",
       "      <td>2017-01-25</td>\n",
       "      <td>Now, the audience was the biggest ever. But th...</td>\n",
       "      <td>Official aerial photos show Obama's 2009 inaug...</td>\n",
       "      <td>https://www.nytimes.com/2017/01/21/us/politics...</td>\n",
       "    </tr>\n",
       "    <tr>\n",
       "      <th>4</th>\n",
       "      <td>2017-01-25</td>\n",
       "      <td>Take a look at the Pew reports (which show vot...</td>\n",
       "      <td>The report never mentioned voter fraud.</td>\n",
       "      <td>https://www.nytimes.com/2017/01/24/us/politics...</td>\n",
       "    </tr>\n",
       "  </tbody>\n",
       "</table>\n",
       "</div>"
      ],
      "text/plain": [
       "        date                                                lie  \\\n",
       "0 2017-01-21  I wasn't a fan of Iraq. I didn't want to go in...   \n",
       "1 2017-01-21  A reporter for Time magazine — and I have been...   \n",
       "2 2017-01-23  Between 3 million and 5 million illegal votes ...   \n",
       "3 2017-01-25  Now, the audience was the biggest ever. But th...   \n",
       "4 2017-01-25  Take a look at the Pew reports (which show vot...   \n",
       "\n",
       "                                         explanation  \\\n",
       "0   He was for an invasion before he was against it.   \n",
       "1  Trump was on the cover 11 times and Nixon appe...   \n",
       "2             There's no evidence of illegal voting.   \n",
       "3  Official aerial photos show Obama's 2009 inaug...   \n",
       "4            The report never mentioned voter fraud.   \n",
       "\n",
       "                                                 url  \n",
       "0  https://www.buzzfeed.com/andrewkaczynski/in-20...  \n",
       "1  http://nation.time.com/2013/11/06/10-things-yo...  \n",
       "2  https://www.nytimes.com/2017/01/23/us/politics...  \n",
       "3  https://www.nytimes.com/2017/01/21/us/politics...  \n",
       "4  https://www.nytimes.com/2017/01/24/us/politics...  "
      ]
     },
     "execution_count": 45,
     "metadata": {},
     "output_type": "execute_result"
    }
   ],
   "source": [
    "df.head()"
   ]
  },
  {
   "cell_type": "code",
   "execution_count": null,
   "metadata": {},
   "outputs": [],
   "source": []
  }
 ],
 "metadata": {
  "kernelspec": {
   "display_name": "Python 2",
   "language": "python",
   "name": "python2"
  },
  "language_info": {
   "codemirror_mode": {
    "name": "ipython",
    "version": 2
   },
   "file_extension": ".py",
   "mimetype": "text/x-python",
   "name": "python",
   "nbconvert_exporter": "python",
   "pygments_lexer": "ipython2",
   "version": "2.7.16"
  }
 },
 "nbformat": 4,
 "nbformat_minor": 2
}
